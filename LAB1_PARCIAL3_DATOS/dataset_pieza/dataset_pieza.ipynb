{
  "cells": [
    {
      "cell_type": "code",
      "execution_count": 26,
      "metadata": {
        "colab": {
          "base_uri": "https://localhost:8080/"
        },
        "id": "wswK4uWr6CdF",
        "outputId": "f2184493-cc5e-4167-99e3-6ac51c09ce28"
      },
      "outputs": [
        {
          "output_type": "stream",
          "name": "stdout",
          "text": [
            "Looking in indexes: https://pypi.org/simple, https://us-python.pkg.dev/colab-wheels/public/simple/\n",
            "Requirement already satisfied: faker in /usr/local/lib/python3.8/dist-packages (16.8.1)\n",
            "Requirement already satisfied: python-dateutil>=2.4 in /usr/local/lib/python3.8/dist-packages (from faker) (2.8.2)\n",
            "Requirement already satisfied: six>=1.5 in /usr/local/lib/python3.8/dist-packages (from python-dateutil>=2.4->faker) (1.15.0)\n"
          ]
        }
      ],
      "source": [
        "# Uso del Pip install para poder importar la librería faker\n",
        "!pip install faker"
      ]
    },
    {
      "cell_type": "code",
      "execution_count": 27,
      "metadata": {
        "id": "y29B-88s5zjL"
      },
      "outputs": [],
      "source": [
        "# Importar librería pandas para manejar y analizar datos\n",
        "import pandas as pd\n",
        "# Importar librería uuid para crear identificadores únicos.\n",
        "import uuid\n",
        "# Importar librería random para generar datos aleatorios.\n",
        "import random\n",
        "# Importar el paquete faker para generar datos fasos.\n",
        "from faker import Faker\n",
        "# Importar la librería datetime para manejar fechas.\n",
        "import datetime\n",
        "from datetime import date"
      ]
    },
    {
      "cell_type": "code",
      "execution_count": 28,
      "metadata": {
        "id": "4peUsvex6Q_J"
      },
      "outputs": [],
      "source": [
        "# Delimitación del rango del número de elementos.\n",
        "num_pieza = 5000"
      ]
    },
    {
      "cell_type": "code",
      "execution_count": 29,
      "metadata": {
        "id": "QWHk2-Ah6TIg"
      },
      "outputs": [],
      "source": [
        "#Instanciación faker\n",
        "faker = Faker()"
      ]
    },
    {
      "cell_type": "code",
      "execution_count": 30,
      "metadata": {
        "id": "E6WuF_Iw9ZZy"
      },
      "outputs": [],
      "source": [
        "# Una lista de 5 características para la entidad pieza\n",
        "atributos = [\n",
        "    \"var_id_pieza\",\n",
        "    \"var_nombre_pieza\",\n",
        "    \"var_tipo_pieza\",\n",
        "    \"nbr_cantidad_pieza\",\n",
        "    \"dt_fecha_fac_pieza\",\n",
        "    \"var_status_pieza\"  \n",
        "]"
      ]
    },
    {
      "cell_type": "code",
      "execution_count": 31,
      "metadata": {
        "id": "Kz3SIXQJ9c5P"
      },
      "outputs": [],
      "source": [
        "# Nombres de Combustibles\n",
        "nombre =[\n",
        "    \"combustible-A\",\n",
        "    \"combustible-B\",\n",
        "    \"combustible-C\",\n",
        "    \"tornillo-A\",\n",
        "    \"tornillo-B\",\n",
        "    \"Plancha acero\",\n",
        "    \"Plancha aluminio\",\n",
        "    \"Plancha kevlar\",\n",
        "    \"Tarjeta PCB\",\n",
        "    \"Procesadores\",\n",
        "    \"Panel solar\",\n",
        "    \"Sensor-A\",\n",
        "    \"Sensor-B\",\n",
        "    \"Sensor-C\",\n",
        "    \"Antena-A\",\n",
        "    \"Antena-B\"\n",
        "    \"OS-A\",\n",
        "    \"OS-B\",\n",
        "    \"system-A\",\n",
        "    \"system-B\"\n",
        "]"
      ]
    },
    {
      "cell_type": "code",
      "execution_count": 32,
      "metadata": {
        "id": "Q5rLV9_z9ejM"
      },
      "outputs": [],
      "source": [
        "# Tipo de combustibles\n",
        "tipo = [\n",
        "    \"Quimico\",\n",
        "    \"Mecanico\",\n",
        "    \"Electronico\",\n",
        "    \"Software\"\n",
        "]"
      ]
    },
    {
      "cell_type": "code",
      "execution_count": 33,
      "metadata": {
        "id": "IGI2G0mX9gZ9"
      },
      "outputs": [],
      "source": [
        "# Creación de un DF para las 5 características de la entidad pieza\n",
        "df = pd.DataFrame(columns = atributos)"
      ]
    },
    {
      "cell_type": "code",
      "execution_count": 34,
      "metadata": {
        "id": "drVTfkBN9m5e"
      },
      "outputs": [],
      "source": [
        "# id para cada pieza\n",
        "def id_gen(n):\n",
        "    \"\"\"\n",
        "    Función para crear la id única\n",
        "    ...\n",
        "    Parametro\n",
        "    n : int\n",
        "        corresponde al numero indicador del registro correspondiente \n",
        "    \n",
        "    Return\n",
        "    ------\n",
        "    \"PZ-\"+str(n+1) : str\n",
        "        se crea las identificaciones únicas para las piezas\n",
        "    \"\"\"\n",
        "    return \"PZ \"+str(n+1)"
      ]
    },
    {
      "cell_type": "code",
      "execution_count": 35,
      "metadata": {
        "id": "c2KV3JbJ937G"
      },
      "outputs": [],
      "source": [
        "df['var_id_pieza'] = [id_gen(i) for i in range(num_pieza)]"
      ]
    },
    {
      "cell_type": "code",
      "execution_count": 36,
      "metadata": {
        "id": "GOPKDaKM9yAw"
      },
      "outputs": [],
      "source": [
        "# Nombre para pieza\n",
        "def nombre_gen():\n",
        "    \"\"\"\n",
        "    Función para asignación del nombre de la pieza\n",
        "    ...\n",
        "    \n",
        "    Return\n",
        "    ------\n",
        "    \"random.choice(nombre) : str\n",
        "        De forma aleatoria, se asigna un nombre a la pieza\n",
        "    \"\"\"\n",
        "    return random.choice(nombre)"
      ]
    },
    {
      "cell_type": "code",
      "execution_count": 37,
      "metadata": {
        "id": "MOOhplgi97D9"
      },
      "outputs": [],
      "source": [
        "df['var_nombre_pieza'] = [nombre_gen() for i in range(num_pieza)]"
      ]
    },
    {
      "cell_type": "code",
      "execution_count": 38,
      "metadata": {
        "id": "Tb2vnDmu9stR"
      },
      "outputs": [],
      "source": [
        "# Tipo de pieza\n",
        "def tipo_gen(name):\n",
        "    \"\"\"\n",
        "    Función que dá el tipo de pieza\n",
        "    ...\n",
        "    image.png\n",
        "    Return\n",
        "    ------\n",
        "    random.choice(tipo): str\n",
        "        Selección aleatoria de tipo de pieza\n",
        "    \"\"\"\n",
        "    #obtencion del indice de nombre\n",
        "    ind = nombre.index(name)\n",
        "    if (ind >= 0 and ind <=2):\n",
        "        return tipo[0]\n",
        "    elif (ind >= 3 and ind <=7):\n",
        "        return tipo[1]\n",
        "    elif (ind >= 8 and ind <=15):\n",
        "        return tipo[2]\n",
        "    elif (ind >= 16 and ind <=19):\n",
        "        return tipo[3]\n",
        "    return \"NA\""
      ]
    },
    {
      "cell_type": "code",
      "execution_count": 39,
      "metadata": {
        "id": "1NPANMfi9-U8"
      },
      "outputs": [],
      "source": [
        "df['var_tipo_pieza'] = [tipo_gen(i) for i in df['var_nombre_pieza']]"
      ]
    },
    {
      "cell_type": "code",
      "execution_count": 40,
      "metadata": {
        "id": "8lAX44kk9pua"
      },
      "outputs": [],
      "source": [
        "# Cantidad de piezas\n",
        "def cantidad_gen():\n",
        "    \"\"\"\n",
        "    Función para crear la cantidad\n",
        "    ...\n",
        "   \n",
        "    Return\n",
        "    ------\n",
        "   random.randint(40,100)) : int\n",
        "        se crea un entero entre 1 a 100\n",
        "    \"\"\"\n",
        "    return random.randint(40,100)"
      ]
    },
    {
      "cell_type": "code",
      "execution_count": 41,
      "metadata": {
        "id": "gWnLPa6o-BMz"
      },
      "outputs": [],
      "source": [
        "df['nbr_cantidad_pieza'] = [cantidad_gen() for i in range(num_pieza)]"
      ]
    },
    {
      "cell_type": "code",
      "execution_count": 42,
      "metadata": {
        "id": "XiWCjzFo9oVp"
      },
      "outputs": [],
      "source": [
        "# Gerar fecha de fabricacion para cada pieza\n",
        "def fechFab_gen():\n",
        "    \"\"\"\n",
        "    Función para crear fecha de fabricación\n",
        "    ...\n",
        "    \n",
        "    Return\n",
        "    ------\n",
        "    faker.date_between('-3y') : obj datetime.date\n",
        "        generación de una fecha entre 10 años antes hasta la fecha actual\n",
        "    \"\"\"\n",
        "    return faker.date_between('-3y')"
      ]
    },
    {
      "cell_type": "code",
      "execution_count": 43,
      "metadata": {
        "id": "SalCKwP1-DDe"
      },
      "outputs": [],
      "source": [
        "df['dt_fecha_fac_pieza'] = [fechFab_gen() for i in range(num_pieza)]"
      ]
    },
    {
      "cell_type": "code",
      "source": [
        "# Estado del departamento\n",
        "Status_pieza = [\"Disponible\", \"No disponible\"]\n",
        "\n",
        "df['var_status_pieza']= random.choices(\n",
        "    Status_pieza, \n",
        "    weights=(45,55), \n",
        "    k=num_pieza\n",
        ")\n",
        "\"\"\"\n",
        "Con la lista generada de las opciones de estados, se proporciona la\n",
        "función de opciones pesos para cada función y la cantidad de opciones hacer representadas\n",
        "por \"k\". Por consiguiente, se asignó al atributo de \"var_status_dept\" del marco de datos.\n",
        "\"\"\""
      ],
      "metadata": {
        "colab": {
          "base_uri": "https://localhost:8080/",
          "height": 53
        },
        "id": "0PNuEHuzjRAl",
        "outputId": "c33a2ec9-e143-4fbd-9cba-6f785a3f2c43"
      },
      "execution_count": 44,
      "outputs": [
        {
          "output_type": "execute_result",
          "data": {
            "text/plain": [
              "'\\nCon la lista generada de las opciones de estados, se proporciona la\\nfunción de opciones pesos para cada función y la cantidad de opciones hacer representadas\\npor \"k\". Por consiguiente, se asignó al atributo de \"var_status_dept\" del marco de datos.\\n'"
            ],
            "application/vnd.google.colaboratory.intrinsic+json": {
              "type": "string"
            }
          },
          "metadata": {},
          "execution_count": 44
        }
      ]
    },
    {
      "cell_type": "code",
      "execution_count": 45,
      "metadata": {
        "id": "NPnWFp-q-E49"
      },
      "outputs": [],
      "source": [
        "# Guardar el conjunto de datos\n",
        "df.to_csv('dataset_pieza.csv')"
      ]
    },
    {
      "cell_type": "code",
      "execution_count": 46,
      "metadata": {
        "colab": {
          "base_uri": "https://localhost:8080/",
          "height": 423
        },
        "id": "_SQrC08_-HYl",
        "outputId": "3073e44b-fa7c-4406-da47-b1c346b8ede3"
      },
      "outputs": [
        {
          "output_type": "execute_result",
          "data": {
            "text/plain": [
              "     var_id_pieza  var_nombre_pieza var_tipo_pieza  nbr_cantidad_pieza  \\\n",
              "0            PZ 1  Plancha aluminio       Mecanico                  54   \n",
              "1            PZ 2       Panel solar    Electronico                  71   \n",
              "2            PZ 3              OS-B       Software                  64   \n",
              "3            PZ 4     combustible-B        Quimico                  90   \n",
              "4            PZ 5     combustible-A        Quimico                  99   \n",
              "...           ...               ...            ...                 ...   \n",
              "4995      PZ 4996        tornillo-B       Mecanico                  71   \n",
              "4996      PZ 4997       Tarjeta PCB    Electronico                  77   \n",
              "4997      PZ 4998          Antena-A    Electronico                  98   \n",
              "4998      PZ 4999     combustible-A        Quimico                  56   \n",
              "4999      PZ 5000        tornillo-B       Mecanico                  87   \n",
              "\n",
              "     dt_fecha_fac_pieza var_status_pieza  \n",
              "0            2021-04-14    No disponible  \n",
              "1            2020-09-14       Disponible  \n",
              "2            2021-08-12    No disponible  \n",
              "3            2020-07-08       Disponible  \n",
              "4            2020-03-01    No disponible  \n",
              "...                 ...              ...  \n",
              "4995         2021-12-14    No disponible  \n",
              "4996         2021-08-18       Disponible  \n",
              "4997         2022-11-13       Disponible  \n",
              "4998         2022-04-09    No disponible  \n",
              "4999         2022-05-07    No disponible  \n",
              "\n",
              "[5000 rows x 6 columns]"
            ],
            "text/html": [
              "\n",
              "  <div id=\"df-1feb4244-0af5-4305-9e3b-771ba23d5060\">\n",
              "    <div class=\"colab-df-container\">\n",
              "      <div>\n",
              "<style scoped>\n",
              "    .dataframe tbody tr th:only-of-type {\n",
              "        vertical-align: middle;\n",
              "    }\n",
              "\n",
              "    .dataframe tbody tr th {\n",
              "        vertical-align: top;\n",
              "    }\n",
              "\n",
              "    .dataframe thead th {\n",
              "        text-align: right;\n",
              "    }\n",
              "</style>\n",
              "<table border=\"1\" class=\"dataframe\">\n",
              "  <thead>\n",
              "    <tr style=\"text-align: right;\">\n",
              "      <th></th>\n",
              "      <th>var_id_pieza</th>\n",
              "      <th>var_nombre_pieza</th>\n",
              "      <th>var_tipo_pieza</th>\n",
              "      <th>nbr_cantidad_pieza</th>\n",
              "      <th>dt_fecha_fac_pieza</th>\n",
              "      <th>var_status_pieza</th>\n",
              "    </tr>\n",
              "  </thead>\n",
              "  <tbody>\n",
              "    <tr>\n",
              "      <th>0</th>\n",
              "      <td>PZ 1</td>\n",
              "      <td>Plancha aluminio</td>\n",
              "      <td>Mecanico</td>\n",
              "      <td>54</td>\n",
              "      <td>2021-04-14</td>\n",
              "      <td>No disponible</td>\n",
              "    </tr>\n",
              "    <tr>\n",
              "      <th>1</th>\n",
              "      <td>PZ 2</td>\n",
              "      <td>Panel solar</td>\n",
              "      <td>Electronico</td>\n",
              "      <td>71</td>\n",
              "      <td>2020-09-14</td>\n",
              "      <td>Disponible</td>\n",
              "    </tr>\n",
              "    <tr>\n",
              "      <th>2</th>\n",
              "      <td>PZ 3</td>\n",
              "      <td>OS-B</td>\n",
              "      <td>Software</td>\n",
              "      <td>64</td>\n",
              "      <td>2021-08-12</td>\n",
              "      <td>No disponible</td>\n",
              "    </tr>\n",
              "    <tr>\n",
              "      <th>3</th>\n",
              "      <td>PZ 4</td>\n",
              "      <td>combustible-B</td>\n",
              "      <td>Quimico</td>\n",
              "      <td>90</td>\n",
              "      <td>2020-07-08</td>\n",
              "      <td>Disponible</td>\n",
              "    </tr>\n",
              "    <tr>\n",
              "      <th>4</th>\n",
              "      <td>PZ 5</td>\n",
              "      <td>combustible-A</td>\n",
              "      <td>Quimico</td>\n",
              "      <td>99</td>\n",
              "      <td>2020-03-01</td>\n",
              "      <td>No disponible</td>\n",
              "    </tr>\n",
              "    <tr>\n",
              "      <th>...</th>\n",
              "      <td>...</td>\n",
              "      <td>...</td>\n",
              "      <td>...</td>\n",
              "      <td>...</td>\n",
              "      <td>...</td>\n",
              "      <td>...</td>\n",
              "    </tr>\n",
              "    <tr>\n",
              "      <th>4995</th>\n",
              "      <td>PZ 4996</td>\n",
              "      <td>tornillo-B</td>\n",
              "      <td>Mecanico</td>\n",
              "      <td>71</td>\n",
              "      <td>2021-12-14</td>\n",
              "      <td>No disponible</td>\n",
              "    </tr>\n",
              "    <tr>\n",
              "      <th>4996</th>\n",
              "      <td>PZ 4997</td>\n",
              "      <td>Tarjeta PCB</td>\n",
              "      <td>Electronico</td>\n",
              "      <td>77</td>\n",
              "      <td>2021-08-18</td>\n",
              "      <td>Disponible</td>\n",
              "    </tr>\n",
              "    <tr>\n",
              "      <th>4997</th>\n",
              "      <td>PZ 4998</td>\n",
              "      <td>Antena-A</td>\n",
              "      <td>Electronico</td>\n",
              "      <td>98</td>\n",
              "      <td>2022-11-13</td>\n",
              "      <td>Disponible</td>\n",
              "    </tr>\n",
              "    <tr>\n",
              "      <th>4998</th>\n",
              "      <td>PZ 4999</td>\n",
              "      <td>combustible-A</td>\n",
              "      <td>Quimico</td>\n",
              "      <td>56</td>\n",
              "      <td>2022-04-09</td>\n",
              "      <td>No disponible</td>\n",
              "    </tr>\n",
              "    <tr>\n",
              "      <th>4999</th>\n",
              "      <td>PZ 5000</td>\n",
              "      <td>tornillo-B</td>\n",
              "      <td>Mecanico</td>\n",
              "      <td>87</td>\n",
              "      <td>2022-05-07</td>\n",
              "      <td>No disponible</td>\n",
              "    </tr>\n",
              "  </tbody>\n",
              "</table>\n",
              "<p>5000 rows × 6 columns</p>\n",
              "</div>\n",
              "      <button class=\"colab-df-convert\" onclick=\"convertToInteractive('df-1feb4244-0af5-4305-9e3b-771ba23d5060')\"\n",
              "              title=\"Convert this dataframe to an interactive table.\"\n",
              "              style=\"display:none;\">\n",
              "        \n",
              "  <svg xmlns=\"http://www.w3.org/2000/svg\" height=\"24px\"viewBox=\"0 0 24 24\"\n",
              "       width=\"24px\">\n",
              "    <path d=\"M0 0h24v24H0V0z\" fill=\"none\"/>\n",
              "    <path d=\"M18.56 5.44l.94 2.06.94-2.06 2.06-.94-2.06-.94-.94-2.06-.94 2.06-2.06.94zm-11 1L8.5 8.5l.94-2.06 2.06-.94-2.06-.94L8.5 2.5l-.94 2.06-2.06.94zm10 10l.94 2.06.94-2.06 2.06-.94-2.06-.94-.94-2.06-.94 2.06-2.06.94z\"/><path d=\"M17.41 7.96l-1.37-1.37c-.4-.4-.92-.59-1.43-.59-.52 0-1.04.2-1.43.59L10.3 9.45l-7.72 7.72c-.78.78-.78 2.05 0 2.83L4 21.41c.39.39.9.59 1.41.59.51 0 1.02-.2 1.41-.59l7.78-7.78 2.81-2.81c.8-.78.8-2.07 0-2.86zM5.41 20L4 18.59l7.72-7.72 1.47 1.35L5.41 20z\"/>\n",
              "  </svg>\n",
              "      </button>\n",
              "      \n",
              "  <style>\n",
              "    .colab-df-container {\n",
              "      display:flex;\n",
              "      flex-wrap:wrap;\n",
              "      gap: 12px;\n",
              "    }\n",
              "\n",
              "    .colab-df-convert {\n",
              "      background-color: #E8F0FE;\n",
              "      border: none;\n",
              "      border-radius: 50%;\n",
              "      cursor: pointer;\n",
              "      display: none;\n",
              "      fill: #1967D2;\n",
              "      height: 32px;\n",
              "      padding: 0 0 0 0;\n",
              "      width: 32px;\n",
              "    }\n",
              "\n",
              "    .colab-df-convert:hover {\n",
              "      background-color: #E2EBFA;\n",
              "      box-shadow: 0px 1px 2px rgba(60, 64, 67, 0.3), 0px 1px 3px 1px rgba(60, 64, 67, 0.15);\n",
              "      fill: #174EA6;\n",
              "    }\n",
              "\n",
              "    [theme=dark] .colab-df-convert {\n",
              "      background-color: #3B4455;\n",
              "      fill: #D2E3FC;\n",
              "    }\n",
              "\n",
              "    [theme=dark] .colab-df-convert:hover {\n",
              "      background-color: #434B5C;\n",
              "      box-shadow: 0px 1px 3px 1px rgba(0, 0, 0, 0.15);\n",
              "      filter: drop-shadow(0px 1px 2px rgba(0, 0, 0, 0.3));\n",
              "      fill: #FFFFFF;\n",
              "    }\n",
              "  </style>\n",
              "\n",
              "      <script>\n",
              "        const buttonEl =\n",
              "          document.querySelector('#df-1feb4244-0af5-4305-9e3b-771ba23d5060 button.colab-df-convert');\n",
              "        buttonEl.style.display =\n",
              "          google.colab.kernel.accessAllowed ? 'block' : 'none';\n",
              "\n",
              "        async function convertToInteractive(key) {\n",
              "          const element = document.querySelector('#df-1feb4244-0af5-4305-9e3b-771ba23d5060');\n",
              "          const dataTable =\n",
              "            await google.colab.kernel.invokeFunction('convertToInteractive',\n",
              "                                                     [key], {});\n",
              "          if (!dataTable) return;\n",
              "\n",
              "          const docLinkHtml = 'Like what you see? Visit the ' +\n",
              "            '<a target=\"_blank\" href=https://colab.research.google.com/notebooks/data_table.ipynb>data table notebook</a>'\n",
              "            + ' to learn more about interactive tables.';\n",
              "          element.innerHTML = '';\n",
              "          dataTable['output_type'] = 'display_data';\n",
              "          await google.colab.output.renderOutput(dataTable, element);\n",
              "          const docLink = document.createElement('div');\n",
              "          docLink.innerHTML = docLinkHtml;\n",
              "          element.appendChild(docLink);\n",
              "        }\n",
              "      </script>\n",
              "    </div>\n",
              "  </div>\n",
              "  "
            ]
          },
          "metadata": {},
          "execution_count": 46
        }
      ],
      "source": [
        "# Mostrar el conjunto de datos\n",
        "pd.read_csv('dataset_pieza.csv', index_col=0)"
      ]
    }
  ],
  "metadata": {
    "colab": {
      "provenance": []
    },
    "kernelspec": {
      "display_name": "Python 3.10.6 64-bit",
      "language": "python",
      "name": "python3"
    },
    "language_info": {
      "name": "python",
      "version": "3.10.6"
    },
    "vscode": {
      "interpreter": {
        "hash": "369f2c481f4da34e4445cda3fffd2e751bd1c4d706f27375911949ba6bb62e1c"
      }
    }
  },
  "nbformat": 4,
  "nbformat_minor": 0
}