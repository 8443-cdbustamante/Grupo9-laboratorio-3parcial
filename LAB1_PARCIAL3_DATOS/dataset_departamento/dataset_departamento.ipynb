{
  "cells": [
    {
      "cell_type": "markdown",
      "metadata": {
        "id": "RNXGCUc4Yo43"
      },
      "source": [
        "# Conjunto de datos para la entidad \"Departamentos\""
      ]
    },
    {
      "cell_type": "code",
      "execution_count": 1,
      "metadata": {
        "colab": {
          "base_uri": "https://localhost:8080/"
        },
        "id": "5iOJnSVfN258",
        "outputId": "699ec83d-6c03-4006-c7bd-8e8367049e19"
      },
      "outputs": [
        {
          "output_type": "stream",
          "name": "stdout",
          "text": [
            "Looking in indexes: https://pypi.org/simple, https://us-python.pkg.dev/colab-wheels/public/simple/\n",
            "Collecting faker\n",
            "  Downloading Faker-16.8.1-py3-none-any.whl (1.7 MB)\n",
            "\u001b[2K     \u001b[90m━━━━━━━━━━━━━━━━━━━━━━━━━━━━━━━━━━━━━━━━\u001b[0m \u001b[32m1.7/1.7 MB\u001b[0m \u001b[31m20.1 MB/s\u001b[0m eta \u001b[36m0:00:00\u001b[0m\n",
            "\u001b[?25hRequirement already satisfied: python-dateutil>=2.4 in /usr/local/lib/python3.8/dist-packages (from faker) (2.8.2)\n",
            "Requirement already satisfied: six>=1.5 in /usr/local/lib/python3.8/dist-packages (from python-dateutil>=2.4->faker) (1.15.0)\n",
            "Installing collected packages: faker\n",
            "Successfully installed faker-16.8.1\n"
          ]
        }
      ],
      "source": [
        "# Uso del Pip install para poder importar la librería faker\n",
        "!pip install faker"
      ]
    },
    {
      "cell_type": "code",
      "execution_count": 2,
      "metadata": {
        "id": "08yWei_ON4rD"
      },
      "outputs": [],
      "source": [
        "# Importar librería pandas para manejar y analizar datos\n",
        "import pandas as pd\n",
        "# Importar librería uuid para crear identificadores únicos.\n",
        "import uuid\n",
        "# Importar librería random para generar datos aleatorios.\n",
        "import random\n",
        "# Importar el paquete faker para generar datos fasos.\n",
        "from faker import Faker"
      ]
    },
    {
      "cell_type": "code",
      "execution_count": 3,
      "metadata": {
        "id": "sw4fDpAMN5ts"
      },
      "outputs": [],
      "source": [
        "# Delimitación del rango del número de elementos.\n",
        "num_departamento = 5000"
      ]
    },
    {
      "cell_type": "code",
      "execution_count": 19,
      "metadata": {
        "id": "35nMRsU2N69x"
      },
      "outputs": [],
      "source": [
        "# Una lista de 4 características de la entidad departamento\n",
        "features = [\n",
        "    \"var_id_dept\",\n",
        "    \"var_nombre_dept\",\n",
        "    \"var_tipo_dept\",\n",
        "    \"var_descripcion_dept\",\n",
        "    \"var_status_dept\"\n",
        "]\n",
        "# Creación de un DF para estas características\n",
        "df = pd.DataFrame(columns=features)"
      ]
    },
    {
      "cell_type": "code",
      "execution_count": 20,
      "metadata": {
        "id": "9417eb1d"
      },
      "outputs": [],
      "source": [
        "# Generar un id para cada departamento\n",
        "def idm_gen(n):\n",
        "    \"\"\"\n",
        "    Función que se encarga de crear un id unico con nomenclatura básica\n",
        "    ...\n",
        "    \n",
        "    Parametros\n",
        "    ----------\n",
        "    n : int\n",
        "        representa el numero de indice correspondiente al registro\n",
        "    \n",
        "    Return\n",
        "    ------\n",
        "    \"DPTO \"+str(n+1) : str\n",
        "        nomenclatura única de identificación del departamento correspondiente\n",
        "    \"\"\"\n",
        "    return \"DPTO \"+str(n+1)"
      ]
    },
    {
      "cell_type": "code",
      "execution_count": 21,
      "metadata": {
        "id": "4be6d244"
      },
      "outputs": [],
      "source": [
        "df['var_id_dept'] = [idm_gen(i) for i in range(num_departamento)]"
      ]
    },
    {
      "cell_type": "code",
      "execution_count": 22,
      "metadata": {
        "id": "53792c85"
      },
      "outputs": [],
      "source": [
        "# Nombre de departamento\n",
        "var_nombre_dept = [\"Departamento de Propulsión\",\n",
        "                   \"Departamento de Armamento\",\n",
        "                   \"Departamento de Comunicación\",\n",
        "                   \"Departamento de Crontrol\",\n",
        "                   \"Departamento de Estructura\",\n",
        "                   \"Departamento de Carga Explosiva\",\n",
        "                   \"Departamento de Guía\",\n",
        "                   \"Departamento de Administración\"]"
      ]
    },
    {
      "cell_type": "code",
      "execution_count": 24,
      "metadata": {
        "colab": {
          "base_uri": "https://localhost:8080/",
          "height": 53
        },
        "id": "bc4eb9a8",
        "outputId": "0f2fcb2a-7a88-4382-ad5b-fc6ed81ccd8c"
      },
      "outputs": [
        {
          "output_type": "execute_result",
          "data": {
            "text/plain": [
              "'\\nCon la lista generada de las opciones de nombres de departamento, se proporciona la\\nfunción de opciones pesos para cada función y la cantidad de opciones hacer representadas\\npor \"k\". Por consiguiente, se asignó al atributo de \"var_nombre_dept\" del marco de datos.\\n'"
            ],
            "application/vnd.google.colaboratory.intrinsic+json": {
              "type": "string"
            }
          },
          "metadata": {},
          "execution_count": 24
        }
      ],
      "source": [
        "df['var_nombre_dept'] = random.choices(\n",
        "    var_nombre_dept, \n",
        "    weights=(12,13,12,13,12,13,12,13), \n",
        "    k=num_departamento\n",
        ")\n",
        "\"\"\"\n",
        "Con la lista generada de las opciones de nombres de departamento, se proporciona la\n",
        "función de opciones pesos para cada función y la cantidad de opciones hacer representadas\n",
        "por \"k\". Por consiguiente, se asignó al atributo de \"var_nombre_dept\" del marco de datos.\n",
        "\"\"\""
      ]
    },
    {
      "cell_type": "code",
      "source": [
        "# tipo de departamento\n",
        "var_tipo_dept = [\"DOD\",\n",
        "                 \"Nasa\"]"
      ],
      "metadata": {
        "id": "o4dNI0QsgU87"
      },
      "execution_count": 25,
      "outputs": []
    },
    {
      "cell_type": "code",
      "source": [
        "df['var_tipo_dept'] = random.choices(\n",
        "    var_tipo_dept, \n",
        "    weights=(25,25), \n",
        "    k=num_departamento\n",
        ")\n",
        "\"\"\"\n",
        "Con la lista generada de las opciones de tipos de departamento, se proporciona la\n",
        "función de opciones pesos para cada función y la cantidad de opciones hacer representadas\n",
        "por \"k\". Por consiguiente, se asignó al atributo de \"var_tipo_dept\" del marco de datos.\n",
        "\"\"\""
      ],
      "metadata": {
        "colab": {
          "base_uri": "https://localhost:8080/",
          "height": 53
        },
        "id": "BqZ1z9aLgYY2",
        "outputId": "6e20601b-68d2-420d-e6e6-eebe09f6d6e5"
      },
      "execution_count": 26,
      "outputs": [
        {
          "output_type": "execute_result",
          "data": {
            "text/plain": [
              "'\\nCon la lista generada de las opciones de tipos de departamento, se proporciona la\\nfunción de opciones pesos para cada función y la cantidad de opciones hacer representadas\\npor \"k\". Por consiguiente, se asignó al atributo de \"var_tipo_dept\" del marco de datos.\\n'"
            ],
            "application/vnd.google.colaboratory.intrinsic+json": {
              "type": "string"
            }
          },
          "metadata": {},
          "execution_count": 26
        }
      ]
    },
    {
      "cell_type": "code",
      "source": [
        "# Descripción del proveedor\n",
        "import string\n",
        "import random\n",
        "bio=[]\n",
        "length_of_string = 20\n",
        "random.seed()\n",
        "for i in range(0, num_departamento):\n",
        "  bio=(''.join(random.SystemRandom().choice(string.ascii_letters + string.digits) for i in range(length_of_string)))\n",
        "  df.var_descripcion_dept[i] =bio"
      ],
      "metadata": {
        "id": "aOIeYwijN1tT"
      },
      "execution_count": 27,
      "outputs": []
    },
    {
      "cell_type": "code",
      "source": [
        "# Estado del departamento\n",
        "Status_dept = [\"Activo\", \"Inactivo\"]\n",
        "\n",
        "df['var_status_dept']= random.choices(\n",
        "    Status_dept, \n",
        "    weights=(45,55), \n",
        "    k=num_departamento\n",
        ")\n",
        "\"\"\"\n",
        "Con la lista generada de las opciones de estados, se proporciona la\n",
        "función de opciones pesos para cada función y la cantidad de opciones hacer representadas\n",
        "por \"k\". Por consiguiente, se asignó al atributo de \"var_status_dept\" del marco de datos.\n",
        "\"\"\""
      ],
      "metadata": {
        "colab": {
          "base_uri": "https://localhost:8080/",
          "height": 53
        },
        "id": "H2z7dNtsZh8B",
        "outputId": "ad6b7bae-47be-4535-88ce-48df5f6a501b"
      },
      "execution_count": 28,
      "outputs": [
        {
          "output_type": "execute_result",
          "data": {
            "text/plain": [
              "'\\nCon la lista generada de las opciones de estados, se proporciona la\\nfunción de opciones pesos para cada función y la cantidad de opciones hacer representadas\\npor \"k\". Por consiguiente, se asignó al atributo de \"var_status_dept\" del marco de datos.\\n'"
            ],
            "application/vnd.google.colaboratory.intrinsic+json": {
              "type": "string"
            }
          },
          "metadata": {},
          "execution_count": 28
        }
      ]
    },
    {
      "cell_type": "code",
      "execution_count": 29,
      "metadata": {
        "id": "9i2Hy1wqPLYi"
      },
      "outputs": [],
      "source": [
        "# Guardar el conjunto de datos\n",
        "df.to_csv('dataset_departamento.csv')"
      ]
    },
    {
      "cell_type": "code",
      "execution_count": 30,
      "metadata": {
        "colab": {
          "base_uri": "https://localhost:8080/",
          "height": 423
        },
        "id": "gppaUQ4gPLiB",
        "outputId": "7d53d78b-d0c4-4078-abc1-a7bcc5837481"
      },
      "outputs": [
        {
          "output_type": "execute_result",
          "data": {
            "text/plain": [
              "     var_id_dept                 var_nombre_dept var_tipo_dept  \\\n",
              "0         DPTO 1  Departamento de Administración           DOD   \n",
              "1         DPTO 2            Departamento de Guía          Nasa   \n",
              "2         DPTO 3        Departamento de Crontrol          Nasa   \n",
              "3         DPTO 4       Departamento de Armamento           DOD   \n",
              "4         DPTO 5      Departamento de Estructura           DOD   \n",
              "...          ...                             ...           ...   \n",
              "4995   DPTO 4996        Departamento de Crontrol          Nasa   \n",
              "4996   DPTO 4997            Departamento de Guía          Nasa   \n",
              "4997   DPTO 4998      Departamento de Propulsión          Nasa   \n",
              "4998   DPTO 4999    Departamento de Comunicación          Nasa   \n",
              "4999   DPTO 5000        Departamento de Crontrol          Nasa   \n",
              "\n",
              "      var_descripcion_dept var_status_dept  \n",
              "0     g40z53PKgWsVmeskziUf        Inactivo  \n",
              "1     sW0irQC4MoIeOxRKSH8u        Inactivo  \n",
              "2     Ec7I68JNDz85Vn7BzZXG          Activo  \n",
              "3     Q3DB69FsIJ2IDZpHEdcD          Activo  \n",
              "4     3NqOQl2baK5eQ7SR0nr8          Activo  \n",
              "...                    ...             ...  \n",
              "4995  KmCek3jG6Z1O5431eaDF          Activo  \n",
              "4996  nrkzhxr79Pm4k6VZ9DeB        Inactivo  \n",
              "4997  qK0sceJlwTOi7SfsDusn          Activo  \n",
              "4998  XVndNV1JapiN45mYk1j0        Inactivo  \n",
              "4999  lLnzvOP225VIvULj9kdq        Inactivo  \n",
              "\n",
              "[5000 rows x 5 columns]"
            ],
            "text/html": [
              "\n",
              "  <div id=\"df-d56acb24-552f-4bc4-8123-a5bf2fddbff1\">\n",
              "    <div class=\"colab-df-container\">\n",
              "      <div>\n",
              "<style scoped>\n",
              "    .dataframe tbody tr th:only-of-type {\n",
              "        vertical-align: middle;\n",
              "    }\n",
              "\n",
              "    .dataframe tbody tr th {\n",
              "        vertical-align: top;\n",
              "    }\n",
              "\n",
              "    .dataframe thead th {\n",
              "        text-align: right;\n",
              "    }\n",
              "</style>\n",
              "<table border=\"1\" class=\"dataframe\">\n",
              "  <thead>\n",
              "    <tr style=\"text-align: right;\">\n",
              "      <th></th>\n",
              "      <th>var_id_dept</th>\n",
              "      <th>var_nombre_dept</th>\n",
              "      <th>var_tipo_dept</th>\n",
              "      <th>var_descripcion_dept</th>\n",
              "      <th>var_status_dept</th>\n",
              "    </tr>\n",
              "  </thead>\n",
              "  <tbody>\n",
              "    <tr>\n",
              "      <th>0</th>\n",
              "      <td>DPTO 1</td>\n",
              "      <td>Departamento de Administración</td>\n",
              "      <td>DOD</td>\n",
              "      <td>g40z53PKgWsVmeskziUf</td>\n",
              "      <td>Inactivo</td>\n",
              "    </tr>\n",
              "    <tr>\n",
              "      <th>1</th>\n",
              "      <td>DPTO 2</td>\n",
              "      <td>Departamento de Guía</td>\n",
              "      <td>Nasa</td>\n",
              "      <td>sW0irQC4MoIeOxRKSH8u</td>\n",
              "      <td>Inactivo</td>\n",
              "    </tr>\n",
              "    <tr>\n",
              "      <th>2</th>\n",
              "      <td>DPTO 3</td>\n",
              "      <td>Departamento de Crontrol</td>\n",
              "      <td>Nasa</td>\n",
              "      <td>Ec7I68JNDz85Vn7BzZXG</td>\n",
              "      <td>Activo</td>\n",
              "    </tr>\n",
              "    <tr>\n",
              "      <th>3</th>\n",
              "      <td>DPTO 4</td>\n",
              "      <td>Departamento de Armamento</td>\n",
              "      <td>DOD</td>\n",
              "      <td>Q3DB69FsIJ2IDZpHEdcD</td>\n",
              "      <td>Activo</td>\n",
              "    </tr>\n",
              "    <tr>\n",
              "      <th>4</th>\n",
              "      <td>DPTO 5</td>\n",
              "      <td>Departamento de Estructura</td>\n",
              "      <td>DOD</td>\n",
              "      <td>3NqOQl2baK5eQ7SR0nr8</td>\n",
              "      <td>Activo</td>\n",
              "    </tr>\n",
              "    <tr>\n",
              "      <th>...</th>\n",
              "      <td>...</td>\n",
              "      <td>...</td>\n",
              "      <td>...</td>\n",
              "      <td>...</td>\n",
              "      <td>...</td>\n",
              "    </tr>\n",
              "    <tr>\n",
              "      <th>4995</th>\n",
              "      <td>DPTO 4996</td>\n",
              "      <td>Departamento de Crontrol</td>\n",
              "      <td>Nasa</td>\n",
              "      <td>KmCek3jG6Z1O5431eaDF</td>\n",
              "      <td>Activo</td>\n",
              "    </tr>\n",
              "    <tr>\n",
              "      <th>4996</th>\n",
              "      <td>DPTO 4997</td>\n",
              "      <td>Departamento de Guía</td>\n",
              "      <td>Nasa</td>\n",
              "      <td>nrkzhxr79Pm4k6VZ9DeB</td>\n",
              "      <td>Inactivo</td>\n",
              "    </tr>\n",
              "    <tr>\n",
              "      <th>4997</th>\n",
              "      <td>DPTO 4998</td>\n",
              "      <td>Departamento de Propulsión</td>\n",
              "      <td>Nasa</td>\n",
              "      <td>qK0sceJlwTOi7SfsDusn</td>\n",
              "      <td>Activo</td>\n",
              "    </tr>\n",
              "    <tr>\n",
              "      <th>4998</th>\n",
              "      <td>DPTO 4999</td>\n",
              "      <td>Departamento de Comunicación</td>\n",
              "      <td>Nasa</td>\n",
              "      <td>XVndNV1JapiN45mYk1j0</td>\n",
              "      <td>Inactivo</td>\n",
              "    </tr>\n",
              "    <tr>\n",
              "      <th>4999</th>\n",
              "      <td>DPTO 5000</td>\n",
              "      <td>Departamento de Crontrol</td>\n",
              "      <td>Nasa</td>\n",
              "      <td>lLnzvOP225VIvULj9kdq</td>\n",
              "      <td>Inactivo</td>\n",
              "    </tr>\n",
              "  </tbody>\n",
              "</table>\n",
              "<p>5000 rows × 5 columns</p>\n",
              "</div>\n",
              "      <button class=\"colab-df-convert\" onclick=\"convertToInteractive('df-d56acb24-552f-4bc4-8123-a5bf2fddbff1')\"\n",
              "              title=\"Convert this dataframe to an interactive table.\"\n",
              "              style=\"display:none;\">\n",
              "        \n",
              "  <svg xmlns=\"http://www.w3.org/2000/svg\" height=\"24px\"viewBox=\"0 0 24 24\"\n",
              "       width=\"24px\">\n",
              "    <path d=\"M0 0h24v24H0V0z\" fill=\"none\"/>\n",
              "    <path d=\"M18.56 5.44l.94 2.06.94-2.06 2.06-.94-2.06-.94-.94-2.06-.94 2.06-2.06.94zm-11 1L8.5 8.5l.94-2.06 2.06-.94-2.06-.94L8.5 2.5l-.94 2.06-2.06.94zm10 10l.94 2.06.94-2.06 2.06-.94-2.06-.94-.94-2.06-.94 2.06-2.06.94z\"/><path d=\"M17.41 7.96l-1.37-1.37c-.4-.4-.92-.59-1.43-.59-.52 0-1.04.2-1.43.59L10.3 9.45l-7.72 7.72c-.78.78-.78 2.05 0 2.83L4 21.41c.39.39.9.59 1.41.59.51 0 1.02-.2 1.41-.59l7.78-7.78 2.81-2.81c.8-.78.8-2.07 0-2.86zM5.41 20L4 18.59l7.72-7.72 1.47 1.35L5.41 20z\"/>\n",
              "  </svg>\n",
              "      </button>\n",
              "      \n",
              "  <style>\n",
              "    .colab-df-container {\n",
              "      display:flex;\n",
              "      flex-wrap:wrap;\n",
              "      gap: 12px;\n",
              "    }\n",
              "\n",
              "    .colab-df-convert {\n",
              "      background-color: #E8F0FE;\n",
              "      border: none;\n",
              "      border-radius: 50%;\n",
              "      cursor: pointer;\n",
              "      display: none;\n",
              "      fill: #1967D2;\n",
              "      height: 32px;\n",
              "      padding: 0 0 0 0;\n",
              "      width: 32px;\n",
              "    }\n",
              "\n",
              "    .colab-df-convert:hover {\n",
              "      background-color: #E2EBFA;\n",
              "      box-shadow: 0px 1px 2px rgba(60, 64, 67, 0.3), 0px 1px 3px 1px rgba(60, 64, 67, 0.15);\n",
              "      fill: #174EA6;\n",
              "    }\n",
              "\n",
              "    [theme=dark] .colab-df-convert {\n",
              "      background-color: #3B4455;\n",
              "      fill: #D2E3FC;\n",
              "    }\n",
              "\n",
              "    [theme=dark] .colab-df-convert:hover {\n",
              "      background-color: #434B5C;\n",
              "      box-shadow: 0px 1px 3px 1px rgba(0, 0, 0, 0.15);\n",
              "      filter: drop-shadow(0px 1px 2px rgba(0, 0, 0, 0.3));\n",
              "      fill: #FFFFFF;\n",
              "    }\n",
              "  </style>\n",
              "\n",
              "      <script>\n",
              "        const buttonEl =\n",
              "          document.querySelector('#df-d56acb24-552f-4bc4-8123-a5bf2fddbff1 button.colab-df-convert');\n",
              "        buttonEl.style.display =\n",
              "          google.colab.kernel.accessAllowed ? 'block' : 'none';\n",
              "\n",
              "        async function convertToInteractive(key) {\n",
              "          const element = document.querySelector('#df-d56acb24-552f-4bc4-8123-a5bf2fddbff1');\n",
              "          const dataTable =\n",
              "            await google.colab.kernel.invokeFunction('convertToInteractive',\n",
              "                                                     [key], {});\n",
              "          if (!dataTable) return;\n",
              "\n",
              "          const docLinkHtml = 'Like what you see? Visit the ' +\n",
              "            '<a target=\"_blank\" href=https://colab.research.google.com/notebooks/data_table.ipynb>data table notebook</a>'\n",
              "            + ' to learn more about interactive tables.';\n",
              "          element.innerHTML = '';\n",
              "          dataTable['output_type'] = 'display_data';\n",
              "          await google.colab.output.renderOutput(dataTable, element);\n",
              "          const docLink = document.createElement('div');\n",
              "          docLink.innerHTML = docLinkHtml;\n",
              "          element.appendChild(docLink);\n",
              "        }\n",
              "      </script>\n",
              "    </div>\n",
              "  </div>\n",
              "  "
            ]
          },
          "metadata": {},
          "execution_count": 30
        }
      ],
      "source": [
        "# Mostrar el conjunto de datos\n",
        "pd.read_csv('dataset_departamento.csv', index_col=0) "
      ]
    }
  ],
  "metadata": {
    "colab": {
      "provenance": []
    },
    "kernelspec": {
      "display_name": "Python 3.10.6 64-bit",
      "language": "python",
      "name": "python3"
    },
    "language_info": {
      "name": "python",
      "version": "3.10.6"
    },
    "vscode": {
      "interpreter": {
        "hash": "369f2c481f4da34e4445cda3fffd2e751bd1c4d706f27375911949ba6bb62e1c"
      }
    }
  },
  "nbformat": 4,
  "nbformat_minor": 0
}