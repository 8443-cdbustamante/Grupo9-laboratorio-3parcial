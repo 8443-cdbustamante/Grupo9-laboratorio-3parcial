{
  "cells": [
    {
      "cell_type": "code",
      "execution_count": 6,
      "metadata": {
        "colab": {
          "base_uri": "https://localhost:8080/"
        },
        "id": "wswK4uWr6CdF",
        "outputId": "0b5d017e-ae1d-4bdf-b91e-106c114a1913"
      },
      "outputs": [
        {
          "output_type": "stream",
          "name": "stdout",
          "text": [
            "Looking in indexes: https://pypi.org/simple, https://us-python.pkg.dev/colab-wheels/public/simple/\n",
            "Requirement already satisfied: faker in /usr/local/lib/python3.8/dist-packages (16.8.1)\n",
            "Requirement already satisfied: python-dateutil>=2.4 in /usr/local/lib/python3.8/dist-packages (from faker) (2.8.2)\n",
            "Requirement already satisfied: six>=1.5 in /usr/local/lib/python3.8/dist-packages (from python-dateutil>=2.4->faker) (1.15.0)\n"
          ]
        }
      ],
      "source": [
        "# Uso del Pip install para poder importar la librería faker\n",
        "!pip install faker"
      ]
    },
    {
      "cell_type": "code",
      "execution_count": 7,
      "metadata": {
        "id": "y29B-88s5zjL"
      },
      "outputs": [],
      "source": [
        "# Importar librería pandas para manejar y analizar datos\n",
        "import pandas as pd\n",
        "# Importar librería uuid para crear identificadores únicos.\n",
        "import uuid\n",
        "# Importar librería random para generar datos aleatorios.\n",
        "import random\n",
        "# Importar el paquete faker para generar datos fasos.\n",
        "from faker import Faker\n",
        "# Importar la librería datetime para manejar fechas.\n",
        "import datetime\n",
        "from datetime import date"
      ]
    },
    {
      "cell_type": "code",
      "execution_count": 8,
      "metadata": {
        "id": "4peUsvex6Q_J"
      },
      "outputs": [],
      "source": [
        "# Delimitación del rango del número de elementos.\n",
        "num_rol = 5000"
      ]
    },
    {
      "cell_type": "code",
      "execution_count": 9,
      "metadata": {
        "id": "QWHk2-Ah6TIg"
      },
      "outputs": [],
      "source": [
        "#Instanciación faker\n",
        "faker = Faker()"
      ]
    },
    {
      "cell_type": "code",
      "execution_count": 10,
      "metadata": {
        "id": "en4nP0HM6Wnj"
      },
      "outputs": [],
      "source": [
        "# Una lista de 4 características para la entidad rol\n",
        "atributos = [\n",
        "    \"var_id_rol\",\n",
        "    \"var_nombre_rol\",\n",
        "    \"dt_fecha_asigna_rol\",\n",
        "    \"var_status_rol\" \n",
        "]"
      ]
    },
    {
      "cell_type": "code",
      "execution_count": 11,
      "metadata": {
        "id": "e8_mmhkT6kqN"
      },
      "outputs": [],
      "source": [
        "#Arreglo con nombres de roles\n",
        "nombre =[\n",
        "    \"Operador\",\n",
        "    \"Ensamblador\",\n",
        "    \"Analista\",\n",
        "    \"Programador\",\n",
        "    \"Tester\",\n",
        "    \"Ayudante\"\n",
        "]"
      ]
    },
    {
      "cell_type": "code",
      "execution_count": 12,
      "metadata": {
        "id": "y3ziBZLq6oTB"
      },
      "outputs": [],
      "source": [
        "#Arreglo con estados del rol\n",
        "status = [\n",
        "    \"Activo\",\n",
        "    \"Inactivo\"\n",
        "]"
      ]
    },
    {
      "cell_type": "code",
      "execution_count": 13,
      "metadata": {
        "id": "1avlUlTe6uT9"
      },
      "outputs": [],
      "source": [
        "# Creación de un DF para las 4 características de la entidad rol\n",
        "df = pd.DataFrame(columns = atributos)"
      ]
    },
    {
      "cell_type": "code",
      "execution_count": 14,
      "metadata": {
        "id": "Tq63enpk6srR"
      },
      "outputs": [],
      "source": [
        "# Generar un identificador para cada rol\n",
        "def idr_gen(n):\n",
        "    \"\"\"\n",
        "    Función que se encarga de crear un id unico con nomenclatura básica\n",
        "    ...\n",
        "    \n",
        "    Return\n",
        "    ------\n",
        "    \"ROL-\"+str(n+1) : str\n",
        "        id generado con nomenclatura\n",
        "    \"\"\"\n",
        "    return \"ROL \"+str(n+1) # id para rol"
      ]
    },
    {
      "cell_type": "code",
      "execution_count": 15,
      "metadata": {
        "id": "5d5u6bEq6AA3"
      },
      "outputs": [],
      "source": [
        "#Generacion de datos en cada atributo\n",
        "df['var_id_rol'] = [idr_gen(i) for i in range(num_rol)]"
      ]
    },
    {
      "cell_type": "code",
      "execution_count": 16,
      "metadata": {
        "id": "sOtCTYbk6y8N"
      },
      "outputs": [],
      "source": [
        "# Generar un nombre para cada rol\n",
        "def nombre_gen():\n",
        "    \"\"\"\n",
        "    Función que toma de forma aleatoria un nombre de rol de su respectiva lista\n",
        "    ...\n",
        "    \n",
        "    Return\n",
        "    ------\n",
        "    random.choice(nombre) : str\n",
        "        nombre de rol seleccionado aleatoriamente\n",
        "    \"\"\"\n",
        "    return random.choice(nombre)"
      ]
    },
    {
      "cell_type": "code",
      "execution_count": 17,
      "metadata": {
        "id": "6Xp5NXvx68o-"
      },
      "outputs": [],
      "source": [
        "df['var_nombre_rol'] = [nombre_gen() for i in range(num_rol)]"
      ]
    },
    {
      "cell_type": "code",
      "execution_count": 18,
      "metadata": {
        "id": "TS70-etk60aY"
      },
      "outputs": [],
      "source": [
        "# Determinar un estado para cada rol\n",
        "def status_gen():\n",
        "    \"\"\"\n",
        "    Función que toma un estado de forma aleatoria\n",
        "    ...\n",
        "    \n",
        "    Return\n",
        "    ------\n",
        "    random.choice(status) : str\n",
        "        seleccion de estados usando metodo choice de la libreria random\n",
        "    \"\"\"\n",
        "    return random.choice(status)"
      ]
    },
    {
      "cell_type": "code",
      "execution_count": 19,
      "metadata": {
        "id": "6hF0IyYt7Awd"
      },
      "outputs": [],
      "source": [
        "df['var_status_rol'] = [status_gen() for i in range(num_rol)]"
      ]
    },
    {
      "cell_type": "code",
      "execution_count": 25,
      "metadata": {
        "id": "vW2QeL5K64YT"
      },
      "outputs": [],
      "source": [
        "# Determinar una fecha de asignación de rol para cada registro\n",
        "def fechAsg_gen():\n",
        "    \"\"\"\n",
        "    Función que genera la fecha de asignación del rol\n",
        "    ...\n",
        "    \n",
        "    Return\n",
        "    ------\n",
        "    faker.date_between('-4y') : obj datetime.date\n",
        "        Usa libreria faker para generar fechas entre 2 años antes a la fecha actual\n",
        "    \"\"\"\n",
        "    return faker.date_between('-4y')"
      ]
    },
    {
      "cell_type": "code",
      "execution_count": 26,
      "metadata": {
        "id": "hwY4aFJM57aB"
      },
      "outputs": [],
      "source": [
        "df['dt_fecha_asigna_rol'] = [fechAsg_gen() for i in range(num_rol)]"
      ]
    },
    {
      "cell_type": "code",
      "execution_count": 27,
      "metadata": {
        "id": "M4gcF_fo59UG"
      },
      "outputs": [],
      "source": [
        "#Descarga de datos en archivo .cvs\n",
        "df.to_csv('dataset_Roles.csv')"
      ]
    },
    {
      "cell_type": "code",
      "execution_count": 28,
      "metadata": {
        "colab": {
          "base_uri": "https://localhost:8080/",
          "height": 423
        },
        "id": "GV_anvNZ7P4o",
        "outputId": "172f2908-c27f-4c4e-9a81-10e2ee774eba"
      },
      "outputs": [
        {
          "output_type": "execute_result",
          "data": {
            "text/plain": [
              "     var_id_rol var_nombre_rol dt_fecha_asigna_rol var_status_rol\n",
              "0         ROL 1    Ensamblador          2021-01-11         Activo\n",
              "1         ROL 2       Analista          2022-06-26       Inactivo\n",
              "2         ROL 3    Programador          2021-12-25       Inactivo\n",
              "3         ROL 4       Ayudante          2019-06-29         Activo\n",
              "4         ROL 5       Ayudante          2019-02-14       Inactivo\n",
              "...         ...            ...                 ...            ...\n",
              "4995   ROL 4996    Programador          2020-07-06       Inactivo\n",
              "4996   ROL 4997         Tester          2020-12-15       Inactivo\n",
              "4997   ROL 4998       Analista          2020-05-15         Activo\n",
              "4998   ROL 4999       Operador          2022-04-01       Inactivo\n",
              "4999   ROL 5000         Tester          2021-06-24         Activo\n",
              "\n",
              "[5000 rows x 4 columns]"
            ],
            "text/html": [
              "\n",
              "  <div id=\"df-da5596bf-f9c0-4acd-904d-9edc36a0394a\">\n",
              "    <div class=\"colab-df-container\">\n",
              "      <div>\n",
              "<style scoped>\n",
              "    .dataframe tbody tr th:only-of-type {\n",
              "        vertical-align: middle;\n",
              "    }\n",
              "\n",
              "    .dataframe tbody tr th {\n",
              "        vertical-align: top;\n",
              "    }\n",
              "\n",
              "    .dataframe thead th {\n",
              "        text-align: right;\n",
              "    }\n",
              "</style>\n",
              "<table border=\"1\" class=\"dataframe\">\n",
              "  <thead>\n",
              "    <tr style=\"text-align: right;\">\n",
              "      <th></th>\n",
              "      <th>var_id_rol</th>\n",
              "      <th>var_nombre_rol</th>\n",
              "      <th>dt_fecha_asigna_rol</th>\n",
              "      <th>var_status_rol</th>\n",
              "    </tr>\n",
              "  </thead>\n",
              "  <tbody>\n",
              "    <tr>\n",
              "      <th>0</th>\n",
              "      <td>ROL 1</td>\n",
              "      <td>Ensamblador</td>\n",
              "      <td>2021-01-11</td>\n",
              "      <td>Activo</td>\n",
              "    </tr>\n",
              "    <tr>\n",
              "      <th>1</th>\n",
              "      <td>ROL 2</td>\n",
              "      <td>Analista</td>\n",
              "      <td>2022-06-26</td>\n",
              "      <td>Inactivo</td>\n",
              "    </tr>\n",
              "    <tr>\n",
              "      <th>2</th>\n",
              "      <td>ROL 3</td>\n",
              "      <td>Programador</td>\n",
              "      <td>2021-12-25</td>\n",
              "      <td>Inactivo</td>\n",
              "    </tr>\n",
              "    <tr>\n",
              "      <th>3</th>\n",
              "      <td>ROL 4</td>\n",
              "      <td>Ayudante</td>\n",
              "      <td>2019-06-29</td>\n",
              "      <td>Activo</td>\n",
              "    </tr>\n",
              "    <tr>\n",
              "      <th>4</th>\n",
              "      <td>ROL 5</td>\n",
              "      <td>Ayudante</td>\n",
              "      <td>2019-02-14</td>\n",
              "      <td>Inactivo</td>\n",
              "    </tr>\n",
              "    <tr>\n",
              "      <th>...</th>\n",
              "      <td>...</td>\n",
              "      <td>...</td>\n",
              "      <td>...</td>\n",
              "      <td>...</td>\n",
              "    </tr>\n",
              "    <tr>\n",
              "      <th>4995</th>\n",
              "      <td>ROL 4996</td>\n",
              "      <td>Programador</td>\n",
              "      <td>2020-07-06</td>\n",
              "      <td>Inactivo</td>\n",
              "    </tr>\n",
              "    <tr>\n",
              "      <th>4996</th>\n",
              "      <td>ROL 4997</td>\n",
              "      <td>Tester</td>\n",
              "      <td>2020-12-15</td>\n",
              "      <td>Inactivo</td>\n",
              "    </tr>\n",
              "    <tr>\n",
              "      <th>4997</th>\n",
              "      <td>ROL 4998</td>\n",
              "      <td>Analista</td>\n",
              "      <td>2020-05-15</td>\n",
              "      <td>Activo</td>\n",
              "    </tr>\n",
              "    <tr>\n",
              "      <th>4998</th>\n",
              "      <td>ROL 4999</td>\n",
              "      <td>Operador</td>\n",
              "      <td>2022-04-01</td>\n",
              "      <td>Inactivo</td>\n",
              "    </tr>\n",
              "    <tr>\n",
              "      <th>4999</th>\n",
              "      <td>ROL 5000</td>\n",
              "      <td>Tester</td>\n",
              "      <td>2021-06-24</td>\n",
              "      <td>Activo</td>\n",
              "    </tr>\n",
              "  </tbody>\n",
              "</table>\n",
              "<p>5000 rows × 4 columns</p>\n",
              "</div>\n",
              "      <button class=\"colab-df-convert\" onclick=\"convertToInteractive('df-da5596bf-f9c0-4acd-904d-9edc36a0394a')\"\n",
              "              title=\"Convert this dataframe to an interactive table.\"\n",
              "              style=\"display:none;\">\n",
              "        \n",
              "  <svg xmlns=\"http://www.w3.org/2000/svg\" height=\"24px\"viewBox=\"0 0 24 24\"\n",
              "       width=\"24px\">\n",
              "    <path d=\"M0 0h24v24H0V0z\" fill=\"none\"/>\n",
              "    <path d=\"M18.56 5.44l.94 2.06.94-2.06 2.06-.94-2.06-.94-.94-2.06-.94 2.06-2.06.94zm-11 1L8.5 8.5l.94-2.06 2.06-.94-2.06-.94L8.5 2.5l-.94 2.06-2.06.94zm10 10l.94 2.06.94-2.06 2.06-.94-2.06-.94-.94-2.06-.94 2.06-2.06.94z\"/><path d=\"M17.41 7.96l-1.37-1.37c-.4-.4-.92-.59-1.43-.59-.52 0-1.04.2-1.43.59L10.3 9.45l-7.72 7.72c-.78.78-.78 2.05 0 2.83L4 21.41c.39.39.9.59 1.41.59.51 0 1.02-.2 1.41-.59l7.78-7.78 2.81-2.81c.8-.78.8-2.07 0-2.86zM5.41 20L4 18.59l7.72-7.72 1.47 1.35L5.41 20z\"/>\n",
              "  </svg>\n",
              "      </button>\n",
              "      \n",
              "  <style>\n",
              "    .colab-df-container {\n",
              "      display:flex;\n",
              "      flex-wrap:wrap;\n",
              "      gap: 12px;\n",
              "    }\n",
              "\n",
              "    .colab-df-convert {\n",
              "      background-color: #E8F0FE;\n",
              "      border: none;\n",
              "      border-radius: 50%;\n",
              "      cursor: pointer;\n",
              "      display: none;\n",
              "      fill: #1967D2;\n",
              "      height: 32px;\n",
              "      padding: 0 0 0 0;\n",
              "      width: 32px;\n",
              "    }\n",
              "\n",
              "    .colab-df-convert:hover {\n",
              "      background-color: #E2EBFA;\n",
              "      box-shadow: 0px 1px 2px rgba(60, 64, 67, 0.3), 0px 1px 3px 1px rgba(60, 64, 67, 0.15);\n",
              "      fill: #174EA6;\n",
              "    }\n",
              "\n",
              "    [theme=dark] .colab-df-convert {\n",
              "      background-color: #3B4455;\n",
              "      fill: #D2E3FC;\n",
              "    }\n",
              "\n",
              "    [theme=dark] .colab-df-convert:hover {\n",
              "      background-color: #434B5C;\n",
              "      box-shadow: 0px 1px 3px 1px rgba(0, 0, 0, 0.15);\n",
              "      filter: drop-shadow(0px 1px 2px rgba(0, 0, 0, 0.3));\n",
              "      fill: #FFFFFF;\n",
              "    }\n",
              "  </style>\n",
              "\n",
              "      <script>\n",
              "        const buttonEl =\n",
              "          document.querySelector('#df-da5596bf-f9c0-4acd-904d-9edc36a0394a button.colab-df-convert');\n",
              "        buttonEl.style.display =\n",
              "          google.colab.kernel.accessAllowed ? 'block' : 'none';\n",
              "\n",
              "        async function convertToInteractive(key) {\n",
              "          const element = document.querySelector('#df-da5596bf-f9c0-4acd-904d-9edc36a0394a');\n",
              "          const dataTable =\n",
              "            await google.colab.kernel.invokeFunction('convertToInteractive',\n",
              "                                                     [key], {});\n",
              "          if (!dataTable) return;\n",
              "\n",
              "          const docLinkHtml = 'Like what you see? Visit the ' +\n",
              "            '<a target=\"_blank\" href=https://colab.research.google.com/notebooks/data_table.ipynb>data table notebook</a>'\n",
              "            + ' to learn more about interactive tables.';\n",
              "          element.innerHTML = '';\n",
              "          dataTable['output_type'] = 'display_data';\n",
              "          await google.colab.output.renderOutput(dataTable, element);\n",
              "          const docLink = document.createElement('div');\n",
              "          docLink.innerHTML = docLinkHtml;\n",
              "          element.appendChild(docLink);\n",
              "        }\n",
              "      </script>\n",
              "    </div>\n",
              "  </div>\n",
              "  "
            ]
          },
          "metadata": {},
          "execution_count": 28
        }
      ],
      "source": [
        "# Mostrar el conjunto de datos\n",
        "pd.read_csv('dataset_Roles.csv', index_col=0)"
      ]
    }
  ],
  "metadata": {
    "colab": {
      "provenance": []
    },
    "kernelspec": {
      "display_name": "Python 3.10.6 64-bit",
      "language": "python",
      "name": "python3"
    },
    "language_info": {
      "name": "python",
      "version": "3.10.6"
    },
    "vscode": {
      "interpreter": {
        "hash": "369f2c481f4da34e4445cda3fffd2e751bd1c4d706f27375911949ba6bb62e1c"
      }
    }
  },
  "nbformat": 4,
  "nbformat_minor": 0
}