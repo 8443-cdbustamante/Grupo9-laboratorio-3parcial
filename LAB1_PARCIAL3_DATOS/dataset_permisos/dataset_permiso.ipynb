{
  "cells": [
    {
      "cell_type": "code",
      "execution_count": 1,
      "metadata": {
        "colab": {
          "base_uri": "https://localhost:8080/"
        },
        "id": "wswK4uWr6CdF",
        "outputId": "49013cfa-0586-4fea-bf91-b21cea506c5d"
      },
      "outputs": [
        {
          "output_type": "stream",
          "name": "stdout",
          "text": [
            "Looking in indexes: https://pypi.org/simple, https://us-python.pkg.dev/colab-wheels/public/simple/\n",
            "Collecting faker\n",
            "  Downloading Faker-16.8.1-py3-none-any.whl (1.7 MB)\n",
            "\u001b[2K     \u001b[90m━━━━━━━━━━━━━━━━━━━━━━━━━━━━━━━━━━━━━━━━\u001b[0m \u001b[32m1.7/1.7 MB\u001b[0m \u001b[31m18.8 MB/s\u001b[0m eta \u001b[36m0:00:00\u001b[0m\n",
            "\u001b[?25hRequirement already satisfied: python-dateutil>=2.4 in /usr/local/lib/python3.8/dist-packages (from faker) (2.8.2)\n",
            "Requirement already satisfied: six>=1.5 in /usr/local/lib/python3.8/dist-packages (from python-dateutil>=2.4->faker) (1.15.0)\n",
            "Installing collected packages: faker\n",
            "Successfully installed faker-16.8.1\n"
          ]
        }
      ],
      "source": [
        "# Uso del Pip install para poder importar la librería faker\n",
        "!pip install faker"
      ]
    },
    {
      "cell_type": "code",
      "execution_count": 2,
      "metadata": {
        "id": "y29B-88s5zjL"
      },
      "outputs": [],
      "source": [
        "# Importar librería pandas para manejar y analizar datos\n",
        "import pandas as pd\n",
        "# Importar librería uuid para crear identificadores únicos.\n",
        "import uuid\n",
        "# Importar librería random para generar datos aleatorios.\n",
        "import random\n",
        "# Importar el paquete faker para generar datos fasos.\n",
        "from faker import Faker\n",
        "# Importar la librería datetime para manejar fechas.\n",
        "import datetime\n",
        "from datetime import date"
      ]
    },
    {
      "cell_type": "code",
      "execution_count": 3,
      "metadata": {
        "id": "4peUsvex6Q_J"
      },
      "outputs": [],
      "source": [
        "# Delimitación del rango del número de elementos.\n",
        "num_permiso = 5000"
      ]
    },
    {
      "cell_type": "code",
      "execution_count": 4,
      "metadata": {
        "id": "QWHk2-Ah6TIg"
      },
      "outputs": [],
      "source": [
        "#Instanciación faker\n",
        "faker = Faker()"
      ]
    },
    {
      "cell_type": "code",
      "execution_count": 5,
      "metadata": {
        "id": "Srm3eAAHDm5Z"
      },
      "outputs": [],
      "source": [
        "# Una lista de 6 características para la entidad permiso\n",
        "atributos = [\n",
        "    \"var_id_perm\",\n",
        "    \"var_entidad_perm\",\n",
        "    \"var_tipo_perm\",\n",
        "    \"dt_fecha_asigna_perm\",\n",
        "    \"dt_fecha_caduca_perm\", \n",
        "    \"var_status_perm\" \n",
        "]"
      ]
    },
    {
      "cell_type": "code",
      "execution_count": 6,
      "metadata": {
        "id": "-sApnZT9D9O0"
      },
      "outputs": [],
      "source": [
        "# arreglo con valores para atributo entidad\n",
        "entidad =[\n",
        "    \"Permisos\",\n",
        "    \"Roles\",\n",
        "    \"Personal\",\n",
        "    \"Departamento\",\n",
        "    \"Misil\",\n",
        "    \"Componente\",\n",
        "    \"Pieza\",\n",
        "    \"Proveedor\",\n",
        "    \"Parametro\"\n",
        "]\n"
      ]
    },
    {
      "cell_type": "code",
      "execution_count": 7,
      "metadata": {
        "id": "tOa1U1VtD6iv"
      },
      "outputs": [],
      "source": [
        "# arreglo con valores para atributo tipo\n",
        "tipo = [\n",
        "    \"Lectura\",\n",
        "    \"Escritura\"\n",
        "]"
      ]
    },
    {
      "cell_type": "code",
      "execution_count": 8,
      "metadata": {
        "id": "I1i5tCjsD5PZ"
      },
      "outputs": [],
      "source": [
        "# arreglo con valores para atributo estado\n",
        "status = [\n",
        "    \"Vigente\",\n",
        "    \"Caducado\"\n",
        "]"
      ]
    },
    {
      "cell_type": "code",
      "execution_count": 9,
      "metadata": {
        "id": "ihfBbSg2D36U"
      },
      "outputs": [],
      "source": [
        "# Creación de un DF para las 6 características de la entidad permiso\n",
        "df = pd.DataFrame(columns = atributos)"
      ]
    },
    {
      "cell_type": "code",
      "execution_count": 10,
      "metadata": {
        "id": "xIwJx3IAD1zT"
      },
      "outputs": [],
      "source": [
        "# Generar un identificador por cada permiso\n",
        "def idp_gen(n):\n",
        "    \"\"\"\n",
        "    Función para crear la id única\n",
        "    ...\n",
        "    Parametro\n",
        "    n : int\n",
        "        corresponde al numero indicador del registro correspondiente \n",
        "    \n",
        "    Return\n",
        "    ------\n",
        "    \"PERM-\"+str(n+1) : str\n",
        "        se crea las identificaciones únicas para los permisos\n",
        "    \"\"\"\n",
        "    return \"PERM \"+str(n+1)"
      ]
    },
    {
      "cell_type": "code",
      "execution_count": 11,
      "metadata": {
        "id": "CIEfmQ1AEB21"
      },
      "outputs": [],
      "source": [
        "df['var_id_perm'] = [idp_gen(i) for i in range(num_permiso)]"
      ]
    },
    {
      "cell_type": "code",
      "execution_count": 12,
      "metadata": {
        "id": "9kdtpQ_hDz75"
      },
      "outputs": [],
      "source": [
        "# Determinar la entidad a la que pertenece cada permiso\n",
        "def entidad_gen():\n",
        "    \"\"\"\n",
        "    Función para asignar una entidad para el permiso\n",
        "    ...\n",
        "    \n",
        "    Return\n",
        "    ------\n",
        "    random.choice(entidad) : str\n",
        "        generación de la entidad para su asignación en el registro\n",
        "    \"\"\"\n",
        "    return random.choice(entidad)"
      ]
    },
    {
      "cell_type": "code",
      "execution_count": 13,
      "metadata": {
        "id": "Qym7vySBEERd"
      },
      "outputs": [],
      "source": [
        "df['var_entidad_perm'] = [entidad_gen() for i in range(num_permiso)]"
      ]
    },
    {
      "cell_type": "code",
      "execution_count": 14,
      "metadata": {
        "id": "ihXIUCGTDydB"
      },
      "outputs": [],
      "source": [
        "# Determinar el tipo de permiso \n",
        "def tipo_gen():\n",
        "    \"\"\"\n",
        "    Función para asignar el tipo de permiso\n",
        "    ...\n",
        "    \n",
        "    Return\n",
        "    ------\n",
        "    random.choice(tipo) : str\n",
        "        generación del tipo de permiso aleatorio\n",
        "    \"\"\"\n",
        "    return random.choice(tipo)"
      ]
    },
    {
      "cell_type": "code",
      "execution_count": 15,
      "metadata": {
        "id": "tYpaJfZAEGQB"
      },
      "outputs": [],
      "source": [
        "df['var_tipo_perm'] = [tipo_gen() for i in range(num_permiso)]"
      ]
    },
    {
      "cell_type": "code",
      "execution_count": 16,
      "metadata": {
        "id": "DVYKzM39Dvcu"
      },
      "outputs": [],
      "source": [
        "# Generar una fecha de asignación de permiso a cada registro\n",
        "def fechAsig_gen():\n",
        "    \"\"\"\n",
        "    Función para crear fecha de asignación del permiso\n",
        "    ...\n",
        "    \n",
        "    Return\n",
        "    ------\n",
        "    faker.date_between('-5y') : obj datetime.date\n",
        "        generación de una fecha entre 10 años antes hasta la fecha actual\n",
        "    \"\"\"\n",
        "    return faker.date_between('-5y')"
      ]
    },
    {
      "cell_type": "code",
      "execution_count": 17,
      "metadata": {
        "id": "A8X164m2ENuk"
      },
      "outputs": [],
      "source": [
        "df['dt_fecha_asigna_perm'] = [fechAsig_gen() for i in range(num_permiso)]"
      ]
    },
    {
      "cell_type": "code",
      "execution_count": 18,
      "metadata": {
        "id": "PN_Y7sEGDsPY"
      },
      "outputs": [],
      "source": [
        "# Determinar una fecha de caducidad de permiso de cada registro\n",
        "def fechCad_gen(fecha):\n",
        "    \"\"\"\n",
        "    Función para crear fecha de caducidad\n",
        "    ...\n",
        "    \n",
        "    Parametro\n",
        "    ---------\n",
        "    fecha : obj Datetime.date\n",
        "        variable que corresponde a la fecha de asignación del permiso\n",
        "    \n",
        "    Return\n",
        "    ------\n",
        "    caduca: str\n",
        "        generación de una fecha con rango de 10 años antes y despues dela fecha actual\n",
        "    \"\"\"\n",
        "    #asignación de objeto con fecha con rango de 10 años antes y despues de fecha actual\n",
        "    caduca = faker.date_this_decade(True, True)\n",
        "    #bucle para asegurar que la fecha inicio sea menor a la fecha caduca\n",
        "    while (caduca <= fecha):\n",
        "        caduca = faker.date_this_decade(True, True) #genera nueva fecha que cumpla con condicional\n",
        "    return caduca"
      ]
    },
    {
      "cell_type": "code",
      "execution_count": 19,
      "metadata": {
        "id": "8qYpc6V_EQV7"
      },
      "outputs": [],
      "source": [
        "df['dt_fecha_caduca_perm'] = [fechCad_gen(i) for i in df[\"dt_fecha_asigna_perm\"]]"
      ]
    },
    {
      "cell_type": "code",
      "execution_count": 20,
      "metadata": {
        "id": "hFtgiXvyDprM"
      },
      "outputs": [],
      "source": [
        "# Determinar el estado en que se encuentra cada permiso\n",
        "def status_gen(fecha):\n",
        "    \"\"\"\n",
        "    Función para la generación de estado del permiso\n",
        "    ...\n",
        "    \n",
        "    Parametros\n",
        "    ----------\n",
        "    fecha : obj datetime.date\n",
        "        fecha correspondiente a la caducidad\n",
        "    \n",
        "    Return\n",
        "    ------\n",
        "    status[0] :  str\n",
        "        envía la cadena correspondiente al indice 0 del arreglo status\n",
        "        \n",
        "    status[1] : str\n",
        "        envia la cadena que está en el indice 1 del arreglo status\n",
        "    \"\"\"\n",
        "    #formato de fecha\n",
        "    frmt = \"%Y-%m-%d\"\n",
        "    #Asignación de fecha actual en tipo objeto date\n",
        "    now = date.today()\n",
        "    #Fecha actual conseguida\n",
        "    stime = datetime.datetime.strptime(str(fecha), frmt)\n",
        "    #Fecha actual\n",
        "    now1 = datetime.datetime.strptime(str(now), frmt)\n",
        "    #indicador entero basado en el calculo de edad\n",
        "    ind = int((stime-now1).days/365.25)\n",
        "    #asignación de estado de acuerdo al indicador\n",
        "    if (ind>0):\n",
        "        return status[0]\n",
        "    else:\n",
        "        return status[1]"
      ]
    },
    {
      "cell_type": "code",
      "execution_count": 21,
      "metadata": {
        "id": "4-a7x_otES1V"
      },
      "outputs": [],
      "source": [
        "df['var_status_perm'] = [status_gen(i) for i in df[\"dt_fecha_caduca_perm\"]]"
      ]
    },
    {
      "cell_type": "code",
      "execution_count": 22,
      "metadata": {
        "id": "-LJL9_F1Ee4q"
      },
      "outputs": [],
      "source": [
        "# Guardar el conjunto de datos\n",
        "df.to_csv('dataset_Permisos.csv')"
      ]
    },
    {
      "cell_type": "code",
      "execution_count": 23,
      "metadata": {
        "colab": {
          "base_uri": "https://localhost:8080/",
          "height": 423
        },
        "id": "LwftL9HNEjQz",
        "outputId": "17448a34-37dc-4203-e953-248f713901cd"
      },
      "outputs": [
        {
          "output_type": "execute_result",
          "data": {
            "text/plain": [
              "     var_id_perm var_entidad_perm var_tipo_perm dt_fecha_asigna_perm  \\\n",
              "0         PERM 1     Departamento     Escritura           2019-06-28   \n",
              "1         PERM 2            Roles     Escritura           2020-12-19   \n",
              "2         PERM 3            Roles       Lectura           2018-05-12   \n",
              "3         PERM 4            Misil     Escritura           2021-04-09   \n",
              "4         PERM 5            Roles       Lectura           2019-05-27   \n",
              "...          ...              ...           ...                  ...   \n",
              "4995   PERM 4996            Pieza       Lectura           2019-04-23   \n",
              "4996   PERM 4997     Departamento       Lectura           2020-02-05   \n",
              "4997   PERM 4998         Permisos     Escritura           2021-12-10   \n",
              "4998   PERM 4999            Roles       Lectura           2022-03-31   \n",
              "4999   PERM 5000        Parametro       Lectura           2022-02-18   \n",
              "\n",
              "     dt_fecha_caduca_perm var_status_perm  \n",
              "0              2021-12-09        Caducado  \n",
              "1              2025-08-31         Vigente  \n",
              "2              2028-11-20         Vigente  \n",
              "3              2028-09-16         Vigente  \n",
              "4              2024-09-24         Vigente  \n",
              "...                   ...             ...  \n",
              "4995           2021-09-17        Caducado  \n",
              "4996           2026-04-06         Vigente  \n",
              "4997           2027-05-29         Vigente  \n",
              "4998           2025-07-05         Vigente  \n",
              "4999           2027-07-21         Vigente  \n",
              "\n",
              "[5000 rows x 6 columns]"
            ],
            "text/html": [
              "\n",
              "  <div id=\"df-e8095aaf-0d04-45f2-84f0-663e69d9d374\">\n",
              "    <div class=\"colab-df-container\">\n",
              "      <div>\n",
              "<style scoped>\n",
              "    .dataframe tbody tr th:only-of-type {\n",
              "        vertical-align: middle;\n",
              "    }\n",
              "\n",
              "    .dataframe tbody tr th {\n",
              "        vertical-align: top;\n",
              "    }\n",
              "\n",
              "    .dataframe thead th {\n",
              "        text-align: right;\n",
              "    }\n",
              "</style>\n",
              "<table border=\"1\" class=\"dataframe\">\n",
              "  <thead>\n",
              "    <tr style=\"text-align: right;\">\n",
              "      <th></th>\n",
              "      <th>var_id_perm</th>\n",
              "      <th>var_entidad_perm</th>\n",
              "      <th>var_tipo_perm</th>\n",
              "      <th>dt_fecha_asigna_perm</th>\n",
              "      <th>dt_fecha_caduca_perm</th>\n",
              "      <th>var_status_perm</th>\n",
              "    </tr>\n",
              "  </thead>\n",
              "  <tbody>\n",
              "    <tr>\n",
              "      <th>0</th>\n",
              "      <td>PERM 1</td>\n",
              "      <td>Departamento</td>\n",
              "      <td>Escritura</td>\n",
              "      <td>2019-06-28</td>\n",
              "      <td>2021-12-09</td>\n",
              "      <td>Caducado</td>\n",
              "    </tr>\n",
              "    <tr>\n",
              "      <th>1</th>\n",
              "      <td>PERM 2</td>\n",
              "      <td>Roles</td>\n",
              "      <td>Escritura</td>\n",
              "      <td>2020-12-19</td>\n",
              "      <td>2025-08-31</td>\n",
              "      <td>Vigente</td>\n",
              "    </tr>\n",
              "    <tr>\n",
              "      <th>2</th>\n",
              "      <td>PERM 3</td>\n",
              "      <td>Roles</td>\n",
              "      <td>Lectura</td>\n",
              "      <td>2018-05-12</td>\n",
              "      <td>2028-11-20</td>\n",
              "      <td>Vigente</td>\n",
              "    </tr>\n",
              "    <tr>\n",
              "      <th>3</th>\n",
              "      <td>PERM 4</td>\n",
              "      <td>Misil</td>\n",
              "      <td>Escritura</td>\n",
              "      <td>2021-04-09</td>\n",
              "      <td>2028-09-16</td>\n",
              "      <td>Vigente</td>\n",
              "    </tr>\n",
              "    <tr>\n",
              "      <th>4</th>\n",
              "      <td>PERM 5</td>\n",
              "      <td>Roles</td>\n",
              "      <td>Lectura</td>\n",
              "      <td>2019-05-27</td>\n",
              "      <td>2024-09-24</td>\n",
              "      <td>Vigente</td>\n",
              "    </tr>\n",
              "    <tr>\n",
              "      <th>...</th>\n",
              "      <td>...</td>\n",
              "      <td>...</td>\n",
              "      <td>...</td>\n",
              "      <td>...</td>\n",
              "      <td>...</td>\n",
              "      <td>...</td>\n",
              "    </tr>\n",
              "    <tr>\n",
              "      <th>4995</th>\n",
              "      <td>PERM 4996</td>\n",
              "      <td>Pieza</td>\n",
              "      <td>Lectura</td>\n",
              "      <td>2019-04-23</td>\n",
              "      <td>2021-09-17</td>\n",
              "      <td>Caducado</td>\n",
              "    </tr>\n",
              "    <tr>\n",
              "      <th>4996</th>\n",
              "      <td>PERM 4997</td>\n",
              "      <td>Departamento</td>\n",
              "      <td>Lectura</td>\n",
              "      <td>2020-02-05</td>\n",
              "      <td>2026-04-06</td>\n",
              "      <td>Vigente</td>\n",
              "    </tr>\n",
              "    <tr>\n",
              "      <th>4997</th>\n",
              "      <td>PERM 4998</td>\n",
              "      <td>Permisos</td>\n",
              "      <td>Escritura</td>\n",
              "      <td>2021-12-10</td>\n",
              "      <td>2027-05-29</td>\n",
              "      <td>Vigente</td>\n",
              "    </tr>\n",
              "    <tr>\n",
              "      <th>4998</th>\n",
              "      <td>PERM 4999</td>\n",
              "      <td>Roles</td>\n",
              "      <td>Lectura</td>\n",
              "      <td>2022-03-31</td>\n",
              "      <td>2025-07-05</td>\n",
              "      <td>Vigente</td>\n",
              "    </tr>\n",
              "    <tr>\n",
              "      <th>4999</th>\n",
              "      <td>PERM 5000</td>\n",
              "      <td>Parametro</td>\n",
              "      <td>Lectura</td>\n",
              "      <td>2022-02-18</td>\n",
              "      <td>2027-07-21</td>\n",
              "      <td>Vigente</td>\n",
              "    </tr>\n",
              "  </tbody>\n",
              "</table>\n",
              "<p>5000 rows × 6 columns</p>\n",
              "</div>\n",
              "      <button class=\"colab-df-convert\" onclick=\"convertToInteractive('df-e8095aaf-0d04-45f2-84f0-663e69d9d374')\"\n",
              "              title=\"Convert this dataframe to an interactive table.\"\n",
              "              style=\"display:none;\">\n",
              "        \n",
              "  <svg xmlns=\"http://www.w3.org/2000/svg\" height=\"24px\"viewBox=\"0 0 24 24\"\n",
              "       width=\"24px\">\n",
              "    <path d=\"M0 0h24v24H0V0z\" fill=\"none\"/>\n",
              "    <path d=\"M18.56 5.44l.94 2.06.94-2.06 2.06-.94-2.06-.94-.94-2.06-.94 2.06-2.06.94zm-11 1L8.5 8.5l.94-2.06 2.06-.94-2.06-.94L8.5 2.5l-.94 2.06-2.06.94zm10 10l.94 2.06.94-2.06 2.06-.94-2.06-.94-.94-2.06-.94 2.06-2.06.94z\"/><path d=\"M17.41 7.96l-1.37-1.37c-.4-.4-.92-.59-1.43-.59-.52 0-1.04.2-1.43.59L10.3 9.45l-7.72 7.72c-.78.78-.78 2.05 0 2.83L4 21.41c.39.39.9.59 1.41.59.51 0 1.02-.2 1.41-.59l7.78-7.78 2.81-2.81c.8-.78.8-2.07 0-2.86zM5.41 20L4 18.59l7.72-7.72 1.47 1.35L5.41 20z\"/>\n",
              "  </svg>\n",
              "      </button>\n",
              "      \n",
              "  <style>\n",
              "    .colab-df-container {\n",
              "      display:flex;\n",
              "      flex-wrap:wrap;\n",
              "      gap: 12px;\n",
              "    }\n",
              "\n",
              "    .colab-df-convert {\n",
              "      background-color: #E8F0FE;\n",
              "      border: none;\n",
              "      border-radius: 50%;\n",
              "      cursor: pointer;\n",
              "      display: none;\n",
              "      fill: #1967D2;\n",
              "      height: 32px;\n",
              "      padding: 0 0 0 0;\n",
              "      width: 32px;\n",
              "    }\n",
              "\n",
              "    .colab-df-convert:hover {\n",
              "      background-color: #E2EBFA;\n",
              "      box-shadow: 0px 1px 2px rgba(60, 64, 67, 0.3), 0px 1px 3px 1px rgba(60, 64, 67, 0.15);\n",
              "      fill: #174EA6;\n",
              "    }\n",
              "\n",
              "    [theme=dark] .colab-df-convert {\n",
              "      background-color: #3B4455;\n",
              "      fill: #D2E3FC;\n",
              "    }\n",
              "\n",
              "    [theme=dark] .colab-df-convert:hover {\n",
              "      background-color: #434B5C;\n",
              "      box-shadow: 0px 1px 3px 1px rgba(0, 0, 0, 0.15);\n",
              "      filter: drop-shadow(0px 1px 2px rgba(0, 0, 0, 0.3));\n",
              "      fill: #FFFFFF;\n",
              "    }\n",
              "  </style>\n",
              "\n",
              "      <script>\n",
              "        const buttonEl =\n",
              "          document.querySelector('#df-e8095aaf-0d04-45f2-84f0-663e69d9d374 button.colab-df-convert');\n",
              "        buttonEl.style.display =\n",
              "          google.colab.kernel.accessAllowed ? 'block' : 'none';\n",
              "\n",
              "        async function convertToInteractive(key) {\n",
              "          const element = document.querySelector('#df-e8095aaf-0d04-45f2-84f0-663e69d9d374');\n",
              "          const dataTable =\n",
              "            await google.colab.kernel.invokeFunction('convertToInteractive',\n",
              "                                                     [key], {});\n",
              "          if (!dataTable) return;\n",
              "\n",
              "          const docLinkHtml = 'Like what you see? Visit the ' +\n",
              "            '<a target=\"_blank\" href=https://colab.research.google.com/notebooks/data_table.ipynb>data table notebook</a>'\n",
              "            + ' to learn more about interactive tables.';\n",
              "          element.innerHTML = '';\n",
              "          dataTable['output_type'] = 'display_data';\n",
              "          await google.colab.output.renderOutput(dataTable, element);\n",
              "          const docLink = document.createElement('div');\n",
              "          docLink.innerHTML = docLinkHtml;\n",
              "          element.appendChild(docLink);\n",
              "        }\n",
              "      </script>\n",
              "    </div>\n",
              "  </div>\n",
              "  "
            ]
          },
          "metadata": {},
          "execution_count": 23
        }
      ],
      "source": [
        "# Mostrar el conjunto de datos\n",
        "pd.read_csv('dataset_Permisos.csv', index_col=0)"
      ]
    }
  ],
  "metadata": {
    "colab": {
      "provenance": []
    },
    "kernelspec": {
      "display_name": "Python 3.10.6 64-bit",
      "language": "python",
      "name": "python3"
    },
    "language_info": {
      "name": "python",
      "version": "3.10.6"
    },
    "vscode": {
      "interpreter": {
        "hash": "369f2c481f4da34e4445cda3fffd2e751bd1c4d706f27375911949ba6bb62e1c"
      }
    }
  },
  "nbformat": 4,
  "nbformat_minor": 0
}