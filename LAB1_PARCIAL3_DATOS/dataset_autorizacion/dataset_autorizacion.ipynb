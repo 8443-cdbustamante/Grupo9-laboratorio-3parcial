{
  "cells": [
    {
      "cell_type": "code",
      "execution_count": 1,
      "metadata": {
        "colab": {
          "base_uri": "https://localhost:8080/"
        },
        "id": "UmWm2dqvFFu1",
        "outputId": "2ca0f3f1-0474-48b3-acfd-1f466b5d61c4"
      },
      "outputs": [
        {
          "output_type": "stream",
          "name": "stdout",
          "text": [
            "Looking in indexes: https://pypi.org/simple, https://us-python.pkg.dev/colab-wheels/public/simple/\n",
            "Collecting faker\n",
            "  Downloading Faker-16.8.1-py3-none-any.whl (1.7 MB)\n",
            "\u001b[2K     \u001b[90m━━━━━━━━━━━━━━━━━━━━━━━━━━━━━━━━━━━━━━━━\u001b[0m \u001b[32m1.7/1.7 MB\u001b[0m \u001b[31m16.8 MB/s\u001b[0m eta \u001b[36m0:00:00\u001b[0m\n",
            "\u001b[?25hRequirement already satisfied: python-dateutil>=2.4 in /usr/local/lib/python3.8/dist-packages (from faker) (2.8.2)\n",
            "Requirement already satisfied: six>=1.5 in /usr/local/lib/python3.8/dist-packages (from python-dateutil>=2.4->faker) (1.15.0)\n",
            "Installing collected packages: faker\n",
            "Successfully installed faker-16.8.1\n"
          ]
        }
      ],
      "source": [
        "# Uso del Pip install para poder importar la librería faker\n",
        "!pip install faker"
      ]
    },
    {
      "cell_type": "code",
      "execution_count": 2,
      "metadata": {
        "id": "w8NoJlFi5X2Q"
      },
      "outputs": [],
      "source": [
        "# Importar librería pandas para manejar y analizar datos\n",
        "import pandas as pd\n",
        "# Importar librería uuid para crear identificadores únicos.\n",
        "import uuid\n",
        "# Importar librería random para generar datos aleatorios.\n",
        "import random\n",
        "# Importar el paquete faker para generar datos fasos.\n",
        "from faker import Faker"
      ]
    },
    {
      "cell_type": "code",
      "execution_count": 12,
      "metadata": {
        "id": "K569KvKJ5g9S"
      },
      "outputs": [],
      "source": [
        "# Delimitación del rango del número de elementos.\n",
        "num_autorizacion = 5000"
      ]
    },
    {
      "cell_type": "code",
      "execution_count": 13,
      "metadata": {
        "id": "54Szs5tYjJKO"
      },
      "outputs": [],
      "source": [
        "#Instanciación faker\n",
        "faker = Faker()"
      ]
    },
    {
      "cell_type": "code",
      "execution_count": 14,
      "metadata": {
        "id": "Vy2_QGUQ5kis"
      },
      "outputs": [],
      "source": [
        "# Una lista de 3 características para la entidad configurar\n",
        "features = [\n",
        "    \"var_descripcion_au\",\n",
        "    \"var_status_au\",\n",
        "    \"var_id_perm\",\n",
        "    \"var_id_rol\"\n",
        "]\n",
        "# Creación de un DF para estas características\n",
        "df = pd.DataFrame(columns=features)"
      ]
    },
    {
      "cell_type": "code",
      "execution_count": 23,
      "metadata": {
        "id": "cjGh78fsXYj2"
      },
      "outputs": [],
      "source": [
        "# Descripción por cada registro\n",
        "import string\n",
        "import random\n",
        "bio=[]\n",
        "length_of_string = 20\n",
        "random.seed()\n",
        "for i in range(0, num_autorizacion):\n",
        "  bio=(''.join(random.SystemRandom().choice(string.ascii_letters + string.digits) for i in range(length_of_string)))\n",
        "  df.var_descripcion_au[i]=bio"
      ]
    },
    {
      "cell_type": "code",
      "execution_count": 17,
      "metadata": {
        "id": "Tq63enpk6srR"
      },
      "outputs": [],
      "source": [
        "# Fk \"Id_rol\"\n",
        "def idr_gen(n):\n",
        "    \"\"\"\n",
        "    Función que se encarga de crear un id unico con nomenclatura básica\n",
        "    ...\n",
        "    \n",
        "    Return\n",
        "    ------\n",
        "    \"ROL \"+str(n+1) : str\n",
        "        id generado con nomenclatura\n",
        "    \"\"\"\n",
        "    return \"ROL \"+str(n+1) # id para rol"
      ]
    },
    {
      "cell_type": "code",
      "execution_count": 18,
      "metadata": {
        "id": "5d5u6bEq6AA3"
      },
      "outputs": [],
      "source": [
        "#Generacion de datos en cada atributo\n",
        "df['var_id_rol'] = [idr_gen(i) for i in range(num_autorizacion)]"
      ]
    },
    {
      "cell_type": "code",
      "execution_count": 9,
      "metadata": {
        "id": "xIwJx3IAD1zT"
      },
      "outputs": [],
      "source": [
        "# Fk \"Id_perm\"\n",
        "def idp_gen(n):\n",
        "    \"\"\"\n",
        "    Función para crear la id única\n",
        "    ...\n",
        "    Parametro\n",
        "    n : int\n",
        "        corresponde al numero indicador del registro correspondiente \n",
        "    \n",
        "    Return\n",
        "    ------\n",
        "    \"PERM \"+str(n+1) : str\n",
        "        se crea las identificaciones únicas para los permisos\n",
        "    \"\"\"\n",
        "    return \"PERM \"+str(n+1)"
      ]
    },
    {
      "cell_type": "code",
      "execution_count": 20,
      "metadata": {
        "id": "CIEfmQ1AEB21"
      },
      "outputs": [],
      "source": [
        "df['var_id_perm'] = [idp_gen(i) for i in range(num_autorizacion)]"
      ]
    },
    {
      "cell_type": "code",
      "source": [
        "# Estado de autorizacion\n",
        "Status_au = [\"Vigente\", \"Caducado\"]\n",
        "\n",
        "df['var_status_au']= random.choices(\n",
        "    Status_au, \n",
        "    weights=(45,55), \n",
        "    k=num_autorizacion\n",
        ")\n",
        "\"\"\"\n",
        "Con la lista generada de las opciones de estados, se proporciona la\n",
        "función de opciones pesos para cada función y la cantidad de opciones hacer representadas\n",
        "por \"k\". Por consiguiente, se asignó al atributo de \"var_status_dept\" del marco de datos.\n",
        "\"\"\""
      ],
      "metadata": {
        "colab": {
          "base_uri": "https://localhost:8080/",
          "height": 53
        },
        "id": "eIRfoG2TsP4X",
        "outputId": "4b174cb8-320f-4a48-bfc3-0e19844de23a"
      },
      "execution_count": 19,
      "outputs": [
        {
          "output_type": "execute_result",
          "data": {
            "text/plain": [
              "'\\nCon la lista generada de las opciones de estados, se proporciona la\\nfunción de opciones pesos para cada función y la cantidad de opciones hacer representadas\\npor \"k\". Por consiguiente, se asignó al atributo de \"var_status_dept\" del marco de datos.\\n'"
            ],
            "application/vnd.google.colaboratory.intrinsic+json": {
              "type": "string"
            }
          },
          "metadata": {},
          "execution_count": 19
        }
      ]
    },
    {
      "cell_type": "code",
      "execution_count": 24,
      "metadata": {
        "id": "HJkvBuGH9Dvr"
      },
      "outputs": [],
      "source": [
        "# Guardar el conjunto de datos\n",
        "df.to_csv('dataset_configurar.csv')"
      ]
    },
    {
      "cell_type": "code",
      "execution_count": 25,
      "metadata": {
        "colab": {
          "base_uri": "https://localhost:8080/",
          "height": 423
        },
        "id": "iSp4cMHd9G3k",
        "outputId": "a1b038d7-785f-4148-f1a7-125e7e96a122"
      },
      "outputs": [
        {
          "output_type": "execute_result",
          "data": {
            "text/plain": [
              "        var_descripcion_au var_status_au var_id_perm var_id_rol\n",
              "0     QSSiMglzwSxYPHSsoc2J       Vigente      PERM 1      ROL 1\n",
              "1     WnLSTJWrGsWDyUPAHpOf       Vigente      PERM 2      ROL 2\n",
              "2     tzmyNPW8udxr3bMztrEh       Vigente      PERM 3      ROL 3\n",
              "3     3wDvulX0roB5lCH635JZ       Vigente      PERM 4      ROL 4\n",
              "4     5M6lJ12sJka6JERSHoiv       Vigente      PERM 5      ROL 5\n",
              "...                    ...           ...         ...        ...\n",
              "4995  stQtmIFPQKAjdr7JsQdY       Vigente   PERM 4996   ROL 4996\n",
              "4996  FRps3SIeSJMCfjGzQrTv       Vigente   PERM 4997   ROL 4997\n",
              "4997  f6Xpzt1IHsKNaHBjLj57       Vigente   PERM 4998   ROL 4998\n",
              "4998  INBqlxCcACsMICwsqmff       Vigente   PERM 4999   ROL 4999\n",
              "4999  1Bm0cVOlYvc8PFa6NyKp      Caducado   PERM 5000   ROL 5000\n",
              "\n",
              "[5000 rows x 4 columns]"
            ],
            "text/html": [
              "\n",
              "  <div id=\"df-5db00d88-de01-4129-91a8-fd87cab366f5\">\n",
              "    <div class=\"colab-df-container\">\n",
              "      <div>\n",
              "<style scoped>\n",
              "    .dataframe tbody tr th:only-of-type {\n",
              "        vertical-align: middle;\n",
              "    }\n",
              "\n",
              "    .dataframe tbody tr th {\n",
              "        vertical-align: top;\n",
              "    }\n",
              "\n",
              "    .dataframe thead th {\n",
              "        text-align: right;\n",
              "    }\n",
              "</style>\n",
              "<table border=\"1\" class=\"dataframe\">\n",
              "  <thead>\n",
              "    <tr style=\"text-align: right;\">\n",
              "      <th></th>\n",
              "      <th>var_descripcion_au</th>\n",
              "      <th>var_status_au</th>\n",
              "      <th>var_id_perm</th>\n",
              "      <th>var_id_rol</th>\n",
              "    </tr>\n",
              "  </thead>\n",
              "  <tbody>\n",
              "    <tr>\n",
              "      <th>0</th>\n",
              "      <td>QSSiMglzwSxYPHSsoc2J</td>\n",
              "      <td>Vigente</td>\n",
              "      <td>PERM 1</td>\n",
              "      <td>ROL 1</td>\n",
              "    </tr>\n",
              "    <tr>\n",
              "      <th>1</th>\n",
              "      <td>WnLSTJWrGsWDyUPAHpOf</td>\n",
              "      <td>Vigente</td>\n",
              "      <td>PERM 2</td>\n",
              "      <td>ROL 2</td>\n",
              "    </tr>\n",
              "    <tr>\n",
              "      <th>2</th>\n",
              "      <td>tzmyNPW8udxr3bMztrEh</td>\n",
              "      <td>Vigente</td>\n",
              "      <td>PERM 3</td>\n",
              "      <td>ROL 3</td>\n",
              "    </tr>\n",
              "    <tr>\n",
              "      <th>3</th>\n",
              "      <td>3wDvulX0roB5lCH635JZ</td>\n",
              "      <td>Vigente</td>\n",
              "      <td>PERM 4</td>\n",
              "      <td>ROL 4</td>\n",
              "    </tr>\n",
              "    <tr>\n",
              "      <th>4</th>\n",
              "      <td>5M6lJ12sJka6JERSHoiv</td>\n",
              "      <td>Vigente</td>\n",
              "      <td>PERM 5</td>\n",
              "      <td>ROL 5</td>\n",
              "    </tr>\n",
              "    <tr>\n",
              "      <th>...</th>\n",
              "      <td>...</td>\n",
              "      <td>...</td>\n",
              "      <td>...</td>\n",
              "      <td>...</td>\n",
              "    </tr>\n",
              "    <tr>\n",
              "      <th>4995</th>\n",
              "      <td>stQtmIFPQKAjdr7JsQdY</td>\n",
              "      <td>Vigente</td>\n",
              "      <td>PERM 4996</td>\n",
              "      <td>ROL 4996</td>\n",
              "    </tr>\n",
              "    <tr>\n",
              "      <th>4996</th>\n",
              "      <td>FRps3SIeSJMCfjGzQrTv</td>\n",
              "      <td>Vigente</td>\n",
              "      <td>PERM 4997</td>\n",
              "      <td>ROL 4997</td>\n",
              "    </tr>\n",
              "    <tr>\n",
              "      <th>4997</th>\n",
              "      <td>f6Xpzt1IHsKNaHBjLj57</td>\n",
              "      <td>Vigente</td>\n",
              "      <td>PERM 4998</td>\n",
              "      <td>ROL 4998</td>\n",
              "    </tr>\n",
              "    <tr>\n",
              "      <th>4998</th>\n",
              "      <td>INBqlxCcACsMICwsqmff</td>\n",
              "      <td>Vigente</td>\n",
              "      <td>PERM 4999</td>\n",
              "      <td>ROL 4999</td>\n",
              "    </tr>\n",
              "    <tr>\n",
              "      <th>4999</th>\n",
              "      <td>1Bm0cVOlYvc8PFa6NyKp</td>\n",
              "      <td>Caducado</td>\n",
              "      <td>PERM 5000</td>\n",
              "      <td>ROL 5000</td>\n",
              "    </tr>\n",
              "  </tbody>\n",
              "</table>\n",
              "<p>5000 rows × 4 columns</p>\n",
              "</div>\n",
              "      <button class=\"colab-df-convert\" onclick=\"convertToInteractive('df-5db00d88-de01-4129-91a8-fd87cab366f5')\"\n",
              "              title=\"Convert this dataframe to an interactive table.\"\n",
              "              style=\"display:none;\">\n",
              "        \n",
              "  <svg xmlns=\"http://www.w3.org/2000/svg\" height=\"24px\"viewBox=\"0 0 24 24\"\n",
              "       width=\"24px\">\n",
              "    <path d=\"M0 0h24v24H0V0z\" fill=\"none\"/>\n",
              "    <path d=\"M18.56 5.44l.94 2.06.94-2.06 2.06-.94-2.06-.94-.94-2.06-.94 2.06-2.06.94zm-11 1L8.5 8.5l.94-2.06 2.06-.94-2.06-.94L8.5 2.5l-.94 2.06-2.06.94zm10 10l.94 2.06.94-2.06 2.06-.94-2.06-.94-.94-2.06-.94 2.06-2.06.94z\"/><path d=\"M17.41 7.96l-1.37-1.37c-.4-.4-.92-.59-1.43-.59-.52 0-1.04.2-1.43.59L10.3 9.45l-7.72 7.72c-.78.78-.78 2.05 0 2.83L4 21.41c.39.39.9.59 1.41.59.51 0 1.02-.2 1.41-.59l7.78-7.78 2.81-2.81c.8-.78.8-2.07 0-2.86zM5.41 20L4 18.59l7.72-7.72 1.47 1.35L5.41 20z\"/>\n",
              "  </svg>\n",
              "      </button>\n",
              "      \n",
              "  <style>\n",
              "    .colab-df-container {\n",
              "      display:flex;\n",
              "      flex-wrap:wrap;\n",
              "      gap: 12px;\n",
              "    }\n",
              "\n",
              "    .colab-df-convert {\n",
              "      background-color: #E8F0FE;\n",
              "      border: none;\n",
              "      border-radius: 50%;\n",
              "      cursor: pointer;\n",
              "      display: none;\n",
              "      fill: #1967D2;\n",
              "      height: 32px;\n",
              "      padding: 0 0 0 0;\n",
              "      width: 32px;\n",
              "    }\n",
              "\n",
              "    .colab-df-convert:hover {\n",
              "      background-color: #E2EBFA;\n",
              "      box-shadow: 0px 1px 2px rgba(60, 64, 67, 0.3), 0px 1px 3px 1px rgba(60, 64, 67, 0.15);\n",
              "      fill: #174EA6;\n",
              "    }\n",
              "\n",
              "    [theme=dark] .colab-df-convert {\n",
              "      background-color: #3B4455;\n",
              "      fill: #D2E3FC;\n",
              "    }\n",
              "\n",
              "    [theme=dark] .colab-df-convert:hover {\n",
              "      background-color: #434B5C;\n",
              "      box-shadow: 0px 1px 3px 1px rgba(0, 0, 0, 0.15);\n",
              "      filter: drop-shadow(0px 1px 2px rgba(0, 0, 0, 0.3));\n",
              "      fill: #FFFFFF;\n",
              "    }\n",
              "  </style>\n",
              "\n",
              "      <script>\n",
              "        const buttonEl =\n",
              "          document.querySelector('#df-5db00d88-de01-4129-91a8-fd87cab366f5 button.colab-df-convert');\n",
              "        buttonEl.style.display =\n",
              "          google.colab.kernel.accessAllowed ? 'block' : 'none';\n",
              "\n",
              "        async function convertToInteractive(key) {\n",
              "          const element = document.querySelector('#df-5db00d88-de01-4129-91a8-fd87cab366f5');\n",
              "          const dataTable =\n",
              "            await google.colab.kernel.invokeFunction('convertToInteractive',\n",
              "                                                     [key], {});\n",
              "          if (!dataTable) return;\n",
              "\n",
              "          const docLinkHtml = 'Like what you see? Visit the ' +\n",
              "            '<a target=\"_blank\" href=https://colab.research.google.com/notebooks/data_table.ipynb>data table notebook</a>'\n",
              "            + ' to learn more about interactive tables.';\n",
              "          element.innerHTML = '';\n",
              "          dataTable['output_type'] = 'display_data';\n",
              "          await google.colab.output.renderOutput(dataTable, element);\n",
              "          const docLink = document.createElement('div');\n",
              "          docLink.innerHTML = docLinkHtml;\n",
              "          element.appendChild(docLink);\n",
              "        }\n",
              "      </script>\n",
              "    </div>\n",
              "  </div>\n",
              "  "
            ]
          },
          "metadata": {},
          "execution_count": 25
        }
      ],
      "source": [
        "# Mostrar el conjunto de datos\n",
        "pd.read_csv('dataset_configurar.csv', index_col=0)"
      ]
    }
  ],
  "metadata": {
    "colab": {
      "provenance": []
    },
    "kernelspec": {
      "display_name": "Python 3.10.6 64-bit",
      "language": "python",
      "name": "python3"
    },
    "language_info": {
      "name": "python",
      "version": "3.10.6"
    },
    "vscode": {
      "interpreter": {
        "hash": "369f2c481f4da34e4445cda3fffd2e751bd1c4d706f27375911949ba6bb62e1c"
      }
    }
  },
  "nbformat": 4,
  "nbformat_minor": 0
}