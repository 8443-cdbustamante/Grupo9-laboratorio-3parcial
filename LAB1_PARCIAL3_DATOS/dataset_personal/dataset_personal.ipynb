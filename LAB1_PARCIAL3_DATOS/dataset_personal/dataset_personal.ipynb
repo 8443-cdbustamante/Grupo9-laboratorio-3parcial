{
  "cells": [
    {
      "cell_type": "markdown",
      "metadata": {
        "id": "c6482288"
      },
      "source": [
        "# Conjunto de datos para la entidad \"Personal\"\n",
        "\n",
        "\n"
      ]
    },
    {
      "cell_type": "code",
      "execution_count": 1,
      "metadata": {
        "colab": {
          "base_uri": "https://localhost:8080/"
        },
        "id": "5Pmntp36v7hn",
        "outputId": "56545c57-bb8d-4035-a005-4e92afc39f13"
      },
      "outputs": [
        {
          "output_type": "stream",
          "name": "stdout",
          "text": [
            "Looking in indexes: https://pypi.org/simple, https://us-python.pkg.dev/colab-wheels/public/simple/\n",
            "Collecting faker\n",
            "  Downloading Faker-16.8.1-py3-none-any.whl (1.7 MB)\n",
            "\u001b[2K     \u001b[90m━━━━━━━━━━━━━━━━━━━━━━━━━━━━━━━━━━━━━━━━\u001b[0m \u001b[32m1.7/1.7 MB\u001b[0m \u001b[31m19.2 MB/s\u001b[0m eta \u001b[36m0:00:00\u001b[0m\n",
            "\u001b[?25hRequirement already satisfied: python-dateutil>=2.4 in /usr/local/lib/python3.8/dist-packages (from faker) (2.8.2)\n",
            "Requirement already satisfied: six>=1.5 in /usr/local/lib/python3.8/dist-packages (from python-dateutil>=2.4->faker) (1.15.0)\n",
            "Installing collected packages: faker\n",
            "Successfully installed faker-16.8.1\n"
          ]
        }
      ],
      "source": [
        "# Uso del Pip install para poder importar la librería faker\n",
        "!pip install faker"
      ]
    },
    {
      "cell_type": "code",
      "execution_count": 2,
      "metadata": {
        "id": "97b3d6da"
      },
      "outputs": [],
      "source": [
        "# Importar librería pandas para manejar y analizar datos\n",
        "import pandas as pd\n",
        "# Importar librería uuid para crear identificadores únicos.\n",
        "import uuid\n",
        "# Importar librería random para generar datos aleatorios.\n",
        "import random\n",
        "# Importar el paquete faker para generar datos fasos.\n",
        "from faker import Faker\n",
        "# Importar la librería datetime para manejar fechas.\n",
        "import datetime\n",
        "from datetime import date"
      ]
    },
    {
      "cell_type": "code",
      "execution_count": 3,
      "metadata": {
        "id": "29f6b5ac"
      },
      "outputs": [],
      "source": [
        "# Delimitación del rango del número de elementos.\n",
        "num_users = 5000"
      ]
    },
    {
      "cell_type": "code",
      "execution_count": 4,
      "metadata": {
        "id": "5a145d81"
      },
      "outputs": [],
      "source": [
        "# Una lista de 7 características de la entidad personal\n",
        "features = [\n",
        "    \"var_id_per\",\n",
        "    \"var_genero_per\",\n",
        "    \"var_nombre_per\",\n",
        "    \"var_email_per\",\n",
        "    \"dt_fecha_nac_per\",\n",
        "    \"var_status_per\",\n",
        "    \"var_id_dept\"\n",
        "]\n",
        "# Creación de un DF para estas características\n",
        "df = pd.DataFrame(columns=features)"
      ]
    },
    {
      "cell_type": "code",
      "execution_count": 5,
      "metadata": {
        "id": "9417eb1d"
      },
      "outputs": [],
      "source": [
        "# Generar un identificador para cada  miembro del personal\n",
        "def idm_gen(n):\n",
        "    \"\"\"\n",
        "    Función que se encarga de crear un id unico con nomenclatura básica\n",
        "    ...\n",
        "    \n",
        "    Parametros\n",
        "    ----------\n",
        "    n : int\n",
        "        representa el numero de indice correspondiente al registro\n",
        "    \n",
        "    Return\n",
        "    ------\n",
        "    \"MSL--\"+str(n+1) : str\n",
        "        nomenclatura única de identificación del personal correspondiente\n",
        "    \"\"\"\n",
        "    return \"PRS \"+str(n+1)"
      ]
    },
    {
      "cell_type": "code",
      "execution_count": 6,
      "metadata": {
        "id": "4be6d244"
      },
      "outputs": [],
      "source": [
        "df['var_id_per'] = [idm_gen(i) for i in range(num_users)]"
      ]
    },
    {
      "cell_type": "code",
      "execution_count": 7,
      "metadata": {
        "id": "53792c85"
      },
      "outputs": [],
      "source": [
        "# Género del personal\n",
        "genders = [\"male\", \"female\"]"
      ]
    },
    {
      "cell_type": "code",
      "execution_count": 8,
      "metadata": {
        "colab": {
          "base_uri": "https://localhost:8080/",
          "height": 53
        },
        "id": "bc4eb9a8",
        "outputId": "611c5f21-ae6e-476f-c13f-4621f0d4c9b7"
      },
      "outputs": [
        {
          "output_type": "execute_result",
          "data": {
            "text/plain": [
              "'\\nCon la lista generada de las opciones de género, se proporciona la función de opciones\\npesos para cada función y la cantidad de opciones hacer representadas por \"k\".\\nPor consiguiente, se asignó al atributo de \"genero_per\" del marco de datos.\\n'"
            ],
            "application/vnd.google.colaboratory.intrinsic+json": {
              "type": "string"
            }
          },
          "metadata": {},
          "execution_count": 8
        }
      ],
      "source": [
        "df['var_genero_per'] = random.choices(\n",
        "    genders, \n",
        "    weights=(45,55), \n",
        "    k=num_users\n",
        ")\n",
        "\"\"\"\n",
        "Con la lista generada de las opciones de género, se proporciona la función de opciones\n",
        "pesos para cada función y la cantidad de opciones hacer representadas por \"k\".\n",
        "Por consiguiente, se asignó al atributo de \"genero_per\" del marco de datos.\n",
        "\"\"\""
      ]
    },
    {
      "cell_type": "code",
      "execution_count": 9,
      "metadata": {
        "id": "b3fd6f7f"
      },
      "outputs": [],
      "source": [
        "# Nombre del personal\n",
        "# Creación de instancias de falsificador\n",
        "faker = Faker()\n",
        "\n",
        "def name_gen(gender):\n",
        "    \"\"\"\n",
        "    Genera rápidamente un nombre basado en el género\n",
        "    \"\"\"\n",
        "    if gender=='male':\n",
        "        return faker.name_male()\n",
        "    elif gender=='female':\n",
        "        return faker.name_female()\n",
        "    \n",
        "    return faker.name()\n",
        "    \n",
        "# Generación de nombres para cada usuario\n",
        "df['var_nombre_per'] = [name_gen(i) for i in df['var_genero_per']]"
      ]
    },
    {
      "cell_type": "code",
      "execution_count": 10,
      "metadata": {
        "id": "670b3855"
      },
      "outputs": [],
      "source": [
        "# Email del personal\n",
        "def emailGen(name, duplicateFound=False):\n",
        "    \"\"\"\n",
        "    Genera una dirección de correo electrónico aleatoria basada en el nombre de la persona. \n",
        "    Agrega un número al final si se encontró una dirección duplicada.\n",
        "    \"\"\"\n",
        "    # Nombre de dominio falso para usar\n",
        "    dom = \"@nasa.dod.com\"\n",
        "    \n",
        "    # Mayúsculas y minúsculas\n",
        "    name = name.lower().split(\" \")\n",
        "    \n",
        "    # Carácter aleatorio para insertar en el nombre\n",
        "    chars = [\".\", \"_\"]\n",
        "    \n",
        "    new_name = name[0] + random.choice(chars) + name[1] \n",
        "    \n",
        "    # Distinguir aún más el correo electrónico si se encontró un duplicado\n",
        "    if duplicateFound:\n",
        "        \n",
        "        # Número aleatorio para insertar al final\n",
        "        num = random.randint(0,100)\n",
        "        \n",
        "        # Insertar al final\n",
        "        new_name = new_name + str(num)\n",
        "        \n",
        "    # Devolver la dirección de correo electrónico con el nombre de dominio adjunto\n",
        "    return new_name + dom"
      ]
    },
    {
      "cell_type": "code",
      "execution_count": 11,
      "metadata": {
        "id": "97cd6b45"
      },
      "outputs": [],
      "source": [
        "emails = []\n",
        "\n",
        "for name in df['var_nombre_per']:\n",
        "    \n",
        "    # Generación del correo electrónico\n",
        "    email = emailGen(name)\n",
        "    \n",
        "    # Bucle hasta que se genere un correo electrónico único\n",
        "    while email in emails:\n",
        "        \n",
        "        # Crear un correo electrónico con un número aleatorio\n",
        "        email = emailGen(name, duplicateFound=True)\n",
        "    \n",
        "    # Adjuntar el nuevo correo electrónico a la lista\n",
        "    emails.append(email)\n",
        "    \n",
        "df['var_email_per'] = emails"
      ]
    },
    {
      "cell_type": "code",
      "execution_count": 12,
      "metadata": {
        "id": "07a97010"
      },
      "outputs": [],
      "source": [
        "# Fecha de nacimiento del personal\n",
        "def random_dob(start, end, n):\n",
        "    \"\"\"\n",
        "    Generar una lista de un número determinado de marcas de tiempo\n",
        "    \"\"\"\n",
        "    \n",
        "    # El formato de marca de tiempo\n",
        "    frmt = \"%Y-%m-%d\"\n",
        "    \n",
        "    # Dar formato a los dos períodos de tiempo\n",
        "    stime = datetime.datetime.strptime(start, frmt)\n",
        "    etime = datetime.datetime.strptime(end, frmt)\n",
        "    \n",
        "    # Creación del grupo para tiempos aleatorios\n",
        "    td = etime - stime\n",
        "    \n",
        "    # Generar una lista con los tiempos aleatorios\n",
        "    times = [(random.random() * td + stime).strftime(frmt) for _ in range(n)]\n",
        "    \n",
        "    return times\n",
        "\n",
        "df['dt_fecha_nac_per'] = random_dob(\"1989-01-01\", \"1998-01-01\", num_users)"
      ]
    },
    {
      "cell_type": "code",
      "execution_count": 13,
      "metadata": {
        "id": "mupmcKaMM3Ow"
      },
      "outputs": [],
      "source": [
        "# Fk \"Id_depar\"\n",
        "def idm_gen(n):\n",
        "    \"\"\"\n",
        "    Función que se encarga de crear un id unico con nomenclatura básica\n",
        "    ...\n",
        "    \n",
        "    Parametros\n",
        "    ----------\n",
        "    n : int\n",
        "        representa el numero de indice correspondiente al registro\n",
        "    \n",
        "    Return\n",
        "    ------\n",
        "    \"MSL--\"+str(n+1) : str\n",
        "        nomenclatura única de identificación del departamento correspondiente\n",
        "    \"\"\"\n",
        "    return \"DPTO \"+str(n+1)"
      ]
    },
    {
      "cell_type": "code",
      "execution_count": 14,
      "metadata": {
        "id": "Nj7RJ9SUM3Oy"
      },
      "outputs": [],
      "source": [
        "df['var_id_dept'] = [idm_gen(i) for i in range(num_users)]"
      ]
    },
    {
      "cell_type": "code",
      "source": [
        "# Estado del departamento\n",
        "Status_per = [\"Activo\", \"Inactivo\"]\n",
        "\n",
        "df['var_status_per']= random.choices(\n",
        "    Status_per, \n",
        "    weights=(45,55), \n",
        "    k=num_users\n",
        ")\n",
        "\"\"\"\n",
        "Con la lista generada de las opciones de estados, se proporciona la\n",
        "función de opciones pesos para cada función y la cantidad de opciones hacer representadas\n",
        "por \"k\". Por consiguiente, se asignó al atributo de \"var_status_dept\" del marco de datos.\n",
        "\"\"\""
      ],
      "metadata": {
        "colab": {
          "base_uri": "https://localhost:8080/",
          "height": 53
        },
        "id": "BMWZGfN3bcHn",
        "outputId": "afff28e3-cd59-43e5-8bed-adca2ca31b89"
      },
      "execution_count": 15,
      "outputs": [
        {
          "output_type": "execute_result",
          "data": {
            "text/plain": [
              "'\\nCon la lista generada de las opciones de estados, se proporciona la\\nfunción de opciones pesos para cada función y la cantidad de opciones hacer representadas\\npor \"k\". Por consiguiente, se asignó al atributo de \"var_status_dept\" del marco de datos.\\n'"
            ],
            "application/vnd.google.colaboratory.intrinsic+json": {
              "type": "string"
            }
          },
          "metadata": {},
          "execution_count": 15
        }
      ]
    },
    {
      "cell_type": "code",
      "execution_count": 16,
      "metadata": {
        "id": "b746f91d"
      },
      "outputs": [],
      "source": [
        "# Guardar el conjunto de datos\n",
        "df.to_csv('dataset_users.csv')"
      ]
    },
    {
      "cell_type": "code",
      "execution_count": 17,
      "metadata": {
        "colab": {
          "base_uri": "https://localhost:8080/",
          "height": 423
        },
        "id": "qpb0O0OjfRby",
        "outputId": "16750caa-ec95-4b45-ab49-8bc165f49d78"
      },
      "outputs": [
        {
          "output_type": "execute_result",
          "data": {
            "text/plain": [
              "     var_id_per var_genero_per     var_nombre_per  \\\n",
              "0         PRS 1         female       Beth Ellison   \n",
              "1         PRS 2           male    Darrell Andrews   \n",
              "2         PRS 3           male  Jonathan Oconnell   \n",
              "3         PRS 4           male      Dennis Peters   \n",
              "4         PRS 5         female        Kelly Lopez   \n",
              "...         ...            ...                ...   \n",
              "4995   PRS 4996           male        David Smith   \n",
              "4996   PRS 4997           male    Andrew Anderson   \n",
              "4997   PRS 4998         female   Nicole Rodriguez   \n",
              "4998   PRS 4999         female     Jennifer Dixon   \n",
              "4999   PRS 5000         female      Deborah Allen   \n",
              "\n",
              "                       var_email_per dt_fecha_nac_per var_status_per  \\\n",
              "0          beth.ellison@nasa.dod.com       1991-06-19       Inactivo   \n",
              "1       darrell.andrews@nasa.dod.com       1993-03-18       Inactivo   \n",
              "2     jonathan_oconnell@nasa.dod.com       1997-07-07         Activo   \n",
              "3         dennis_peters@nasa.dod.com       1997-10-12       Inactivo   \n",
              "4           kelly_lopez@nasa.dod.com       1992-01-15       Inactivo   \n",
              "...                              ...              ...            ...   \n",
              "4995        david.smith@nasa.dod.com       1995-06-29       Inactivo   \n",
              "4996    andrew_anderson@nasa.dod.com       1997-05-12       Inactivo   \n",
              "4997   nicole.rodriguez@nasa.dod.com       1995-02-22       Inactivo   \n",
              "4998     jennifer_dixon@nasa.dod.com       1992-01-15         Activo   \n",
              "4999      deborah_allen@nasa.dod.com       1992-03-18       Inactivo   \n",
              "\n",
              "     var_id_dept  \n",
              "0         DPTO 1  \n",
              "1         DPTO 2  \n",
              "2         DPTO 3  \n",
              "3         DPTO 4  \n",
              "4         DPTO 5  \n",
              "...          ...  \n",
              "4995   DPTO 4996  \n",
              "4996   DPTO 4997  \n",
              "4997   DPTO 4998  \n",
              "4998   DPTO 4999  \n",
              "4999   DPTO 5000  \n",
              "\n",
              "[5000 rows x 7 columns]"
            ],
            "text/html": [
              "\n",
              "  <div id=\"df-c49080e0-e7db-4aa4-ad98-42cc9ca92bf2\">\n",
              "    <div class=\"colab-df-container\">\n",
              "      <div>\n",
              "<style scoped>\n",
              "    .dataframe tbody tr th:only-of-type {\n",
              "        vertical-align: middle;\n",
              "    }\n",
              "\n",
              "    .dataframe tbody tr th {\n",
              "        vertical-align: top;\n",
              "    }\n",
              "\n",
              "    .dataframe thead th {\n",
              "        text-align: right;\n",
              "    }\n",
              "</style>\n",
              "<table border=\"1\" class=\"dataframe\">\n",
              "  <thead>\n",
              "    <tr style=\"text-align: right;\">\n",
              "      <th></th>\n",
              "      <th>var_id_per</th>\n",
              "      <th>var_genero_per</th>\n",
              "      <th>var_nombre_per</th>\n",
              "      <th>var_email_per</th>\n",
              "      <th>dt_fecha_nac_per</th>\n",
              "      <th>var_status_per</th>\n",
              "      <th>var_id_dept</th>\n",
              "    </tr>\n",
              "  </thead>\n",
              "  <tbody>\n",
              "    <tr>\n",
              "      <th>0</th>\n",
              "      <td>PRS 1</td>\n",
              "      <td>female</td>\n",
              "      <td>Beth Ellison</td>\n",
              "      <td>beth.ellison@nasa.dod.com</td>\n",
              "      <td>1991-06-19</td>\n",
              "      <td>Inactivo</td>\n",
              "      <td>DPTO 1</td>\n",
              "    </tr>\n",
              "    <tr>\n",
              "      <th>1</th>\n",
              "      <td>PRS 2</td>\n",
              "      <td>male</td>\n",
              "      <td>Darrell Andrews</td>\n",
              "      <td>darrell.andrews@nasa.dod.com</td>\n",
              "      <td>1993-03-18</td>\n",
              "      <td>Inactivo</td>\n",
              "      <td>DPTO 2</td>\n",
              "    </tr>\n",
              "    <tr>\n",
              "      <th>2</th>\n",
              "      <td>PRS 3</td>\n",
              "      <td>male</td>\n",
              "      <td>Jonathan Oconnell</td>\n",
              "      <td>jonathan_oconnell@nasa.dod.com</td>\n",
              "      <td>1997-07-07</td>\n",
              "      <td>Activo</td>\n",
              "      <td>DPTO 3</td>\n",
              "    </tr>\n",
              "    <tr>\n",
              "      <th>3</th>\n",
              "      <td>PRS 4</td>\n",
              "      <td>male</td>\n",
              "      <td>Dennis Peters</td>\n",
              "      <td>dennis_peters@nasa.dod.com</td>\n",
              "      <td>1997-10-12</td>\n",
              "      <td>Inactivo</td>\n",
              "      <td>DPTO 4</td>\n",
              "    </tr>\n",
              "    <tr>\n",
              "      <th>4</th>\n",
              "      <td>PRS 5</td>\n",
              "      <td>female</td>\n",
              "      <td>Kelly Lopez</td>\n",
              "      <td>kelly_lopez@nasa.dod.com</td>\n",
              "      <td>1992-01-15</td>\n",
              "      <td>Inactivo</td>\n",
              "      <td>DPTO 5</td>\n",
              "    </tr>\n",
              "    <tr>\n",
              "      <th>...</th>\n",
              "      <td>...</td>\n",
              "      <td>...</td>\n",
              "      <td>...</td>\n",
              "      <td>...</td>\n",
              "      <td>...</td>\n",
              "      <td>...</td>\n",
              "      <td>...</td>\n",
              "    </tr>\n",
              "    <tr>\n",
              "      <th>4995</th>\n",
              "      <td>PRS 4996</td>\n",
              "      <td>male</td>\n",
              "      <td>David Smith</td>\n",
              "      <td>david.smith@nasa.dod.com</td>\n",
              "      <td>1995-06-29</td>\n",
              "      <td>Inactivo</td>\n",
              "      <td>DPTO 4996</td>\n",
              "    </tr>\n",
              "    <tr>\n",
              "      <th>4996</th>\n",
              "      <td>PRS 4997</td>\n",
              "      <td>male</td>\n",
              "      <td>Andrew Anderson</td>\n",
              "      <td>andrew_anderson@nasa.dod.com</td>\n",
              "      <td>1997-05-12</td>\n",
              "      <td>Inactivo</td>\n",
              "      <td>DPTO 4997</td>\n",
              "    </tr>\n",
              "    <tr>\n",
              "      <th>4997</th>\n",
              "      <td>PRS 4998</td>\n",
              "      <td>female</td>\n",
              "      <td>Nicole Rodriguez</td>\n",
              "      <td>nicole.rodriguez@nasa.dod.com</td>\n",
              "      <td>1995-02-22</td>\n",
              "      <td>Inactivo</td>\n",
              "      <td>DPTO 4998</td>\n",
              "    </tr>\n",
              "    <tr>\n",
              "      <th>4998</th>\n",
              "      <td>PRS 4999</td>\n",
              "      <td>female</td>\n",
              "      <td>Jennifer Dixon</td>\n",
              "      <td>jennifer_dixon@nasa.dod.com</td>\n",
              "      <td>1992-01-15</td>\n",
              "      <td>Activo</td>\n",
              "      <td>DPTO 4999</td>\n",
              "    </tr>\n",
              "    <tr>\n",
              "      <th>4999</th>\n",
              "      <td>PRS 5000</td>\n",
              "      <td>female</td>\n",
              "      <td>Deborah Allen</td>\n",
              "      <td>deborah_allen@nasa.dod.com</td>\n",
              "      <td>1992-03-18</td>\n",
              "      <td>Inactivo</td>\n",
              "      <td>DPTO 5000</td>\n",
              "    </tr>\n",
              "  </tbody>\n",
              "</table>\n",
              "<p>5000 rows × 7 columns</p>\n",
              "</div>\n",
              "      <button class=\"colab-df-convert\" onclick=\"convertToInteractive('df-c49080e0-e7db-4aa4-ad98-42cc9ca92bf2')\"\n",
              "              title=\"Convert this dataframe to an interactive table.\"\n",
              "              style=\"display:none;\">\n",
              "        \n",
              "  <svg xmlns=\"http://www.w3.org/2000/svg\" height=\"24px\"viewBox=\"0 0 24 24\"\n",
              "       width=\"24px\">\n",
              "    <path d=\"M0 0h24v24H0V0z\" fill=\"none\"/>\n",
              "    <path d=\"M18.56 5.44l.94 2.06.94-2.06 2.06-.94-2.06-.94-.94-2.06-.94 2.06-2.06.94zm-11 1L8.5 8.5l.94-2.06 2.06-.94-2.06-.94L8.5 2.5l-.94 2.06-2.06.94zm10 10l.94 2.06.94-2.06 2.06-.94-2.06-.94-.94-2.06-.94 2.06-2.06.94z\"/><path d=\"M17.41 7.96l-1.37-1.37c-.4-.4-.92-.59-1.43-.59-.52 0-1.04.2-1.43.59L10.3 9.45l-7.72 7.72c-.78.78-.78 2.05 0 2.83L4 21.41c.39.39.9.59 1.41.59.51 0 1.02-.2 1.41-.59l7.78-7.78 2.81-2.81c.8-.78.8-2.07 0-2.86zM5.41 20L4 18.59l7.72-7.72 1.47 1.35L5.41 20z\"/>\n",
              "  </svg>\n",
              "      </button>\n",
              "      \n",
              "  <style>\n",
              "    .colab-df-container {\n",
              "      display:flex;\n",
              "      flex-wrap:wrap;\n",
              "      gap: 12px;\n",
              "    }\n",
              "\n",
              "    .colab-df-convert {\n",
              "      background-color: #E8F0FE;\n",
              "      border: none;\n",
              "      border-radius: 50%;\n",
              "      cursor: pointer;\n",
              "      display: none;\n",
              "      fill: #1967D2;\n",
              "      height: 32px;\n",
              "      padding: 0 0 0 0;\n",
              "      width: 32px;\n",
              "    }\n",
              "\n",
              "    .colab-df-convert:hover {\n",
              "      background-color: #E2EBFA;\n",
              "      box-shadow: 0px 1px 2px rgba(60, 64, 67, 0.3), 0px 1px 3px 1px rgba(60, 64, 67, 0.15);\n",
              "      fill: #174EA6;\n",
              "    }\n",
              "\n",
              "    [theme=dark] .colab-df-convert {\n",
              "      background-color: #3B4455;\n",
              "      fill: #D2E3FC;\n",
              "    }\n",
              "\n",
              "    [theme=dark] .colab-df-convert:hover {\n",
              "      background-color: #434B5C;\n",
              "      box-shadow: 0px 1px 3px 1px rgba(0, 0, 0, 0.15);\n",
              "      filter: drop-shadow(0px 1px 2px rgba(0, 0, 0, 0.3));\n",
              "      fill: #FFFFFF;\n",
              "    }\n",
              "  </style>\n",
              "\n",
              "      <script>\n",
              "        const buttonEl =\n",
              "          document.querySelector('#df-c49080e0-e7db-4aa4-ad98-42cc9ca92bf2 button.colab-df-convert');\n",
              "        buttonEl.style.display =\n",
              "          google.colab.kernel.accessAllowed ? 'block' : 'none';\n",
              "\n",
              "        async function convertToInteractive(key) {\n",
              "          const element = document.querySelector('#df-c49080e0-e7db-4aa4-ad98-42cc9ca92bf2');\n",
              "          const dataTable =\n",
              "            await google.colab.kernel.invokeFunction('convertToInteractive',\n",
              "                                                     [key], {});\n",
              "          if (!dataTable) return;\n",
              "\n",
              "          const docLinkHtml = 'Like what you see? Visit the ' +\n",
              "            '<a target=\"_blank\" href=https://colab.research.google.com/notebooks/data_table.ipynb>data table notebook</a>'\n",
              "            + ' to learn more about interactive tables.';\n",
              "          element.innerHTML = '';\n",
              "          dataTable['output_type'] = 'display_data';\n",
              "          await google.colab.output.renderOutput(dataTable, element);\n",
              "          const docLink = document.createElement('div');\n",
              "          docLink.innerHTML = docLinkHtml;\n",
              "          element.appendChild(docLink);\n",
              "        }\n",
              "      </script>\n",
              "    </div>\n",
              "  </div>\n",
              "  "
            ]
          },
          "metadata": {},
          "execution_count": 17
        }
      ],
      "source": [
        "# Mostrar el conjunto de datos\n",
        "pd.read_csv('dataset_users.csv', index_col=0)"
      ]
    }
  ],
  "metadata": {
    "colab": {
      "provenance": []
    },
    "kernelspec": {
      "display_name": "Python 3.10.6 64-bit",
      "language": "python",
      "name": "python3"
    },
    "language_info": {
      "name": "python",
      "version": "3.10.6"
    },
    "vscode": {
      "interpreter": {
        "hash": "369f2c481f4da34e4445cda3fffd2e751bd1c4d706f27375911949ba6bb62e1c"
      }
    }
  },
  "nbformat": 4,
  "nbformat_minor": 0
}