{
  "cells": [
    {
      "cell_type": "code",
      "execution_count": 1,
      "metadata": {
        "colab": {
          "base_uri": "https://localhost:8080/"
        },
        "id": "G65hS-RQ7brU",
        "outputId": "7ff81af4-bbe6-41bb-d880-bd970d4e2711"
      },
      "outputs": [
        {
          "output_type": "stream",
          "name": "stdout",
          "text": [
            "Looking in indexes: https://pypi.org/simple, https://us-python.pkg.dev/colab-wheels/public/simple/\n",
            "Collecting faker\n",
            "  Downloading Faker-16.8.1-py3-none-any.whl (1.7 MB)\n",
            "\u001b[2K     \u001b[90m━━━━━━━━━━━━━━━━━━━━━━━━━━━━━━━━━━━━━━━━\u001b[0m \u001b[32m1.7/1.7 MB\u001b[0m \u001b[31m20.7 MB/s\u001b[0m eta \u001b[36m0:00:00\u001b[0m\n",
            "\u001b[?25hRequirement already satisfied: python-dateutil>=2.4 in /usr/local/lib/python3.8/dist-packages (from faker) (2.8.2)\n",
            "Requirement already satisfied: six>=1.5 in /usr/local/lib/python3.8/dist-packages (from python-dateutil>=2.4->faker) (1.15.0)\n",
            "Installing collected packages: faker\n",
            "Successfully installed faker-16.8.1\n"
          ]
        }
      ],
      "source": [
        "# Uso del Pip install para poder importar la librería faker\n",
        "!pip install faker"
      ]
    },
    {
      "cell_type": "code",
      "execution_count": 2,
      "metadata": {
        "id": "Pjw5GBev7eOT"
      },
      "outputs": [],
      "source": [
        "# Importar librería pandas para manejar y analizar datos\n",
        "import pandas as pd\n",
        "# Importar librería uuid para crear identificadores únicos.\n",
        "import uuid\n",
        "# Importar librería random para generar datos aleatorios.\n",
        "import random\n",
        "# Importar el paquete faker para generar datos fasos.\n",
        "from faker import Faker\n",
        "# Importar la librería datetime para manejar fechas.\n",
        "import datetime\n",
        "from datetime import date"
      ]
    },
    {
      "cell_type": "code",
      "execution_count": 3,
      "metadata": {
        "id": "sCgVrLdh7nyb"
      },
      "outputs": [],
      "source": [
        "# Delimitación del rango del número de elementos.\n",
        "num_misil = 5000"
      ]
    },
    {
      "cell_type": "code",
      "execution_count": 4,
      "metadata": {
        "id": "VyWwLuXK7p4N"
      },
      "outputs": [],
      "source": [
        "#Instanciación del proceso faker\n",
        "faker = Faker()"
      ]
    },
    {
      "cell_type": "code",
      "execution_count": 5,
      "metadata": {
        "id": "obbmmg7U7rva"
      },
      "outputs": [],
      "source": [
        "# Una lista de 5 características para la entidad misil\n",
        "atributos = [\n",
        "    \"var_id_mis\",\n",
        "    \"var_nombre_mis\",\n",
        "    \"var_tipo_mis\",\n",
        "    \"dt_fecha_entrega_mis\",\n",
        "    \"var_status_mis\"  \n",
        "]"
      ]
    },
    {
      "cell_type": "code",
      "execution_count": 6,
      "metadata": {
        "id": "5kRfQ9fU7vYm"
      },
      "outputs": [],
      "source": [
        "#Lista de nombres para misiles\n",
        "nombre =[\n",
        "    \"misil-A\",\n",
        "    \"misil-B\",\n",
        "    \"misil-C\",\n",
        "    \"misil-D\",\n",
        "    \"misil-E\",\n",
        "    \"misil-F\"\n",
        "]"
      ]
    },
    {
      "cell_type": "code",
      "execution_count": 7,
      "metadata": {
        "id": "3nV6ks857w1C"
      },
      "outputs": [],
      "source": [
        "#Lista de tipos de misiles\n",
        "tipo = [\n",
        "    \"Cinetico\",\n",
        "    \"Explosivo\",\n",
        "    \"Nuclear\"\n",
        "]"
      ]
    },
    {
      "cell_type": "code",
      "execution_count": 8,
      "metadata": {
        "id": "SafKiv2Y7y7Z"
      },
      "outputs": [],
      "source": [
        "#Lista de estados del misil en cuestión\n",
        "status = [\n",
        "    \"Listo\",\n",
        "    \"En proceso\",\n",
        "    \"Incompleto\"\n",
        "]"
      ]
    },
    {
      "cell_type": "code",
      "execution_count": 9,
      "metadata": {
        "id": "IdgzSwtJ73ZF"
      },
      "outputs": [],
      "source": [
        "# Creación de un DF para las 5 características de la entidad misil\n",
        "df = pd.DataFrame(columns = atributos)"
      ]
    },
    {
      "cell_type": "code",
      "execution_count": 10,
      "metadata": {
        "id": "_olhdEPb76A-"
      },
      "outputs": [],
      "source": [
        "# Generar un identificador para cada misil\n",
        "def idm_gen(n):\n",
        "    \"\"\"\n",
        "    Función que se encarga de crear un id unico con nomenclatura básica\n",
        "    ...\n",
        "    \n",
        "    Parametros\n",
        "    ----------\n",
        "    n : int\n",
        "        representa el numero de indice correspondiente al registro\n",
        "    \n",
        "    Return\n",
        "    ------\n",
        "    \"MSL--\"+str(n+1) : str\n",
        "        nomenclatura única de identificación del misil correspondiente\n",
        "    \"\"\"\n",
        "    return \"MSL \"+str(n+1)"
      ]
    },
    {
      "cell_type": "code",
      "execution_count": 11,
      "metadata": {
        "id": "Iz-v-dLG8FI8"
      },
      "outputs": [],
      "source": [
        "df['var_id_mis'] = [idm_gen(i) for i in range(num_misil)]"
      ]
    },
    {
      "cell_type": "code",
      "execution_count": 12,
      "metadata": {
        "id": "4MVmqwRp76ue"
      },
      "outputs": [],
      "source": [
        "# Generar un nombre para cada misil\n",
        "def nombre_gen():\n",
        "    \"\"\"\n",
        "    Función para asignación del nombre del misil\n",
        "    ...\n",
        "    \n",
        "    Return\n",
        "    ------\n",
        "    \"random.choice(nombre) : str\n",
        "        De forma aleatoria, se asigna un nombre al misil\n",
        "    \"\"\"\n",
        "    return random.choice(nombre)"
      ]
    },
    {
      "cell_type": "code",
      "execution_count": 13,
      "metadata": {
        "id": "FqBIpr0G8Jgk"
      },
      "outputs": [],
      "source": [
        "df['var_nombre_mis'] = [nombre_gen() for i in range(num_misil)]"
      ]
    },
    {
      "cell_type": "code",
      "execution_count": 14,
      "metadata": {
        "id": "V1TtzFoU78_T"
      },
      "outputs": [],
      "source": [
        "# Asignar tipo de misil\n",
        "def tipo_gen():\n",
        "    \"\"\"\n",
        "    Función que dá el tipo de misil\n",
        "    ...\n",
        "    \n",
        "    Return\n",
        "    ------\n",
        "    random.choice(tipo): str\n",
        "        Selección aleatoria de tipo de misil\n",
        "    \"\"\"\n",
        "    return random.choice(tipo)"
      ]
    },
    {
      "cell_type": "code",
      "execution_count": 15,
      "metadata": {
        "id": "Bkpd58xy8MXh"
      },
      "outputs": [],
      "source": [
        "df['var_tipo_mis'] = [tipo_gen() for i in range(num_misil)]"
      ]
    },
    {
      "cell_type": "code",
      "execution_count": 16,
      "metadata": {
        "id": "ojBFzOj28AzS"
      },
      "outputs": [],
      "source": [
        "# Generar fecha de entrega por cada misil\n",
        "def fechFab_gen():\n",
        "    \"\"\"\n",
        "    Función para crear fecha de fabricacion\n",
        "    ...\n",
        "    \n",
        "    Return\n",
        "    ------\n",
        "    faker.date_between('-3y'): obj datetime.date\n",
        "        generación de una fecha entre 5 años antes, hastala fecha actual\n",
        "    \"\"\"\n",
        "    return faker.date_between('-3y')"
      ]
    },
    {
      "cell_type": "code",
      "execution_count": 17,
      "metadata": {
        "id": "bt8X6M1f8PcM"
      },
      "outputs": [],
      "source": [
        "df['dt_fecha_entrega_mis'] = [fechFab_gen() for i in range(num_misil)]"
      ]
    },
    {
      "cell_type": "code",
      "execution_count": 18,
      "metadata": {
        "id": "tgxNEl0K8DR4"
      },
      "outputs": [],
      "source": [
        "# Determinar el estado de cada misil\n",
        "def status_gen():\n",
        "    \"\"\"\n",
        "    Función para asignar el estado del misil\n",
        "    ...\n",
        "    \n",
        "    Return\n",
        "    ------\n",
        "    random.choice(status) : str\n",
        "        selección del estado del misil\n",
        "    \"\"\"\n",
        "    return random.choice(status)"
      ]
    },
    {
      "cell_type": "code",
      "execution_count": 19,
      "metadata": {
        "id": "zuVTgr2a8Txs"
      },
      "outputs": [],
      "source": [
        "df['var_status_mis'] = [status_gen() for i in range(num_misil)]"
      ]
    },
    {
      "cell_type": "code",
      "execution_count": 20,
      "metadata": {
        "id": "S1gUPV_D8VsU"
      },
      "outputs": [],
      "source": [
        "#Descarga de datos en archivo .cvs\n",
        "df.to_csv('dataset_misil.csv')"
      ]
    },
    {
      "cell_type": "code",
      "execution_count": 21,
      "metadata": {
        "colab": {
          "base_uri": "https://localhost:8080/",
          "height": 423
        },
        "id": "Yi2YV8pI8Zyj",
        "outputId": "fb64509d-9d86-49f8-d00c-adf3db2bbb1d"
      },
      "outputs": [
        {
          "output_type": "execute_result",
          "data": {
            "text/plain": [
              "     var_id_mis var_nombre_mis var_tipo_mis dt_fecha_entrega_mis  \\\n",
              "0         MSL 1        misil-A     Cinetico           2021-04-08   \n",
              "1         MSL 2        misil-B      Nuclear           2020-05-05   \n",
              "2         MSL 3        misil-D    Explosivo           2020-07-03   \n",
              "3         MSL 4        misil-D    Explosivo           2021-11-27   \n",
              "4         MSL 5        misil-D    Explosivo           2022-11-21   \n",
              "...         ...            ...          ...                  ...   \n",
              "4995   MSL 4996        misil-E     Cinetico           2021-12-26   \n",
              "4996   MSL 4997        misil-E      Nuclear           2022-11-01   \n",
              "4997   MSL 4998        misil-A      Nuclear           2020-08-10   \n",
              "4998   MSL 4999        misil-A    Explosivo           2021-09-15   \n",
              "4999   MSL 5000        misil-C     Cinetico           2022-03-08   \n",
              "\n",
              "     var_status_mis  \n",
              "0        En proceso  \n",
              "1        En proceso  \n",
              "2        En proceso  \n",
              "3             Listo  \n",
              "4        Incompleto  \n",
              "...             ...  \n",
              "4995          Listo  \n",
              "4996     Incompleto  \n",
              "4997          Listo  \n",
              "4998     Incompleto  \n",
              "4999     En proceso  \n",
              "\n",
              "[5000 rows x 5 columns]"
            ],
            "text/html": [
              "\n",
              "  <div id=\"df-cfd8256d-aae5-4f53-aaf9-759c32732258\">\n",
              "    <div class=\"colab-df-container\">\n",
              "      <div>\n",
              "<style scoped>\n",
              "    .dataframe tbody tr th:only-of-type {\n",
              "        vertical-align: middle;\n",
              "    }\n",
              "\n",
              "    .dataframe tbody tr th {\n",
              "        vertical-align: top;\n",
              "    }\n",
              "\n",
              "    .dataframe thead th {\n",
              "        text-align: right;\n",
              "    }\n",
              "</style>\n",
              "<table border=\"1\" class=\"dataframe\">\n",
              "  <thead>\n",
              "    <tr style=\"text-align: right;\">\n",
              "      <th></th>\n",
              "      <th>var_id_mis</th>\n",
              "      <th>var_nombre_mis</th>\n",
              "      <th>var_tipo_mis</th>\n",
              "      <th>dt_fecha_entrega_mis</th>\n",
              "      <th>var_status_mis</th>\n",
              "    </tr>\n",
              "  </thead>\n",
              "  <tbody>\n",
              "    <tr>\n",
              "      <th>0</th>\n",
              "      <td>MSL 1</td>\n",
              "      <td>misil-A</td>\n",
              "      <td>Cinetico</td>\n",
              "      <td>2021-04-08</td>\n",
              "      <td>En proceso</td>\n",
              "    </tr>\n",
              "    <tr>\n",
              "      <th>1</th>\n",
              "      <td>MSL 2</td>\n",
              "      <td>misil-B</td>\n",
              "      <td>Nuclear</td>\n",
              "      <td>2020-05-05</td>\n",
              "      <td>En proceso</td>\n",
              "    </tr>\n",
              "    <tr>\n",
              "      <th>2</th>\n",
              "      <td>MSL 3</td>\n",
              "      <td>misil-D</td>\n",
              "      <td>Explosivo</td>\n",
              "      <td>2020-07-03</td>\n",
              "      <td>En proceso</td>\n",
              "    </tr>\n",
              "    <tr>\n",
              "      <th>3</th>\n",
              "      <td>MSL 4</td>\n",
              "      <td>misil-D</td>\n",
              "      <td>Explosivo</td>\n",
              "      <td>2021-11-27</td>\n",
              "      <td>Listo</td>\n",
              "    </tr>\n",
              "    <tr>\n",
              "      <th>4</th>\n",
              "      <td>MSL 5</td>\n",
              "      <td>misil-D</td>\n",
              "      <td>Explosivo</td>\n",
              "      <td>2022-11-21</td>\n",
              "      <td>Incompleto</td>\n",
              "    </tr>\n",
              "    <tr>\n",
              "      <th>...</th>\n",
              "      <td>...</td>\n",
              "      <td>...</td>\n",
              "      <td>...</td>\n",
              "      <td>...</td>\n",
              "      <td>...</td>\n",
              "    </tr>\n",
              "    <tr>\n",
              "      <th>4995</th>\n",
              "      <td>MSL 4996</td>\n",
              "      <td>misil-E</td>\n",
              "      <td>Cinetico</td>\n",
              "      <td>2021-12-26</td>\n",
              "      <td>Listo</td>\n",
              "    </tr>\n",
              "    <tr>\n",
              "      <th>4996</th>\n",
              "      <td>MSL 4997</td>\n",
              "      <td>misil-E</td>\n",
              "      <td>Nuclear</td>\n",
              "      <td>2022-11-01</td>\n",
              "      <td>Incompleto</td>\n",
              "    </tr>\n",
              "    <tr>\n",
              "      <th>4997</th>\n",
              "      <td>MSL 4998</td>\n",
              "      <td>misil-A</td>\n",
              "      <td>Nuclear</td>\n",
              "      <td>2020-08-10</td>\n",
              "      <td>Listo</td>\n",
              "    </tr>\n",
              "    <tr>\n",
              "      <th>4998</th>\n",
              "      <td>MSL 4999</td>\n",
              "      <td>misil-A</td>\n",
              "      <td>Explosivo</td>\n",
              "      <td>2021-09-15</td>\n",
              "      <td>Incompleto</td>\n",
              "    </tr>\n",
              "    <tr>\n",
              "      <th>4999</th>\n",
              "      <td>MSL 5000</td>\n",
              "      <td>misil-C</td>\n",
              "      <td>Cinetico</td>\n",
              "      <td>2022-03-08</td>\n",
              "      <td>En proceso</td>\n",
              "    </tr>\n",
              "  </tbody>\n",
              "</table>\n",
              "<p>5000 rows × 5 columns</p>\n",
              "</div>\n",
              "      <button class=\"colab-df-convert\" onclick=\"convertToInteractive('df-cfd8256d-aae5-4f53-aaf9-759c32732258')\"\n",
              "              title=\"Convert this dataframe to an interactive table.\"\n",
              "              style=\"display:none;\">\n",
              "        \n",
              "  <svg xmlns=\"http://www.w3.org/2000/svg\" height=\"24px\"viewBox=\"0 0 24 24\"\n",
              "       width=\"24px\">\n",
              "    <path d=\"M0 0h24v24H0V0z\" fill=\"none\"/>\n",
              "    <path d=\"M18.56 5.44l.94 2.06.94-2.06 2.06-.94-2.06-.94-.94-2.06-.94 2.06-2.06.94zm-11 1L8.5 8.5l.94-2.06 2.06-.94-2.06-.94L8.5 2.5l-.94 2.06-2.06.94zm10 10l.94 2.06.94-2.06 2.06-.94-2.06-.94-.94-2.06-.94 2.06-2.06.94z\"/><path d=\"M17.41 7.96l-1.37-1.37c-.4-.4-.92-.59-1.43-.59-.52 0-1.04.2-1.43.59L10.3 9.45l-7.72 7.72c-.78.78-.78 2.05 0 2.83L4 21.41c.39.39.9.59 1.41.59.51 0 1.02-.2 1.41-.59l7.78-7.78 2.81-2.81c.8-.78.8-2.07 0-2.86zM5.41 20L4 18.59l7.72-7.72 1.47 1.35L5.41 20z\"/>\n",
              "  </svg>\n",
              "      </button>\n",
              "      \n",
              "  <style>\n",
              "    .colab-df-container {\n",
              "      display:flex;\n",
              "      flex-wrap:wrap;\n",
              "      gap: 12px;\n",
              "    }\n",
              "\n",
              "    .colab-df-convert {\n",
              "      background-color: #E8F0FE;\n",
              "      border: none;\n",
              "      border-radius: 50%;\n",
              "      cursor: pointer;\n",
              "      display: none;\n",
              "      fill: #1967D2;\n",
              "      height: 32px;\n",
              "      padding: 0 0 0 0;\n",
              "      width: 32px;\n",
              "    }\n",
              "\n",
              "    .colab-df-convert:hover {\n",
              "      background-color: #E2EBFA;\n",
              "      box-shadow: 0px 1px 2px rgba(60, 64, 67, 0.3), 0px 1px 3px 1px rgba(60, 64, 67, 0.15);\n",
              "      fill: #174EA6;\n",
              "    }\n",
              "\n",
              "    [theme=dark] .colab-df-convert {\n",
              "      background-color: #3B4455;\n",
              "      fill: #D2E3FC;\n",
              "    }\n",
              "\n",
              "    [theme=dark] .colab-df-convert:hover {\n",
              "      background-color: #434B5C;\n",
              "      box-shadow: 0px 1px 3px 1px rgba(0, 0, 0, 0.15);\n",
              "      filter: drop-shadow(0px 1px 2px rgba(0, 0, 0, 0.3));\n",
              "      fill: #FFFFFF;\n",
              "    }\n",
              "  </style>\n",
              "\n",
              "      <script>\n",
              "        const buttonEl =\n",
              "          document.querySelector('#df-cfd8256d-aae5-4f53-aaf9-759c32732258 button.colab-df-convert');\n",
              "        buttonEl.style.display =\n",
              "          google.colab.kernel.accessAllowed ? 'block' : 'none';\n",
              "\n",
              "        async function convertToInteractive(key) {\n",
              "          const element = document.querySelector('#df-cfd8256d-aae5-4f53-aaf9-759c32732258');\n",
              "          const dataTable =\n",
              "            await google.colab.kernel.invokeFunction('convertToInteractive',\n",
              "                                                     [key], {});\n",
              "          if (!dataTable) return;\n",
              "\n",
              "          const docLinkHtml = 'Like what you see? Visit the ' +\n",
              "            '<a target=\"_blank\" href=https://colab.research.google.com/notebooks/data_table.ipynb>data table notebook</a>'\n",
              "            + ' to learn more about interactive tables.';\n",
              "          element.innerHTML = '';\n",
              "          dataTable['output_type'] = 'display_data';\n",
              "          await google.colab.output.renderOutput(dataTable, element);\n",
              "          const docLink = document.createElement('div');\n",
              "          docLink.innerHTML = docLinkHtml;\n",
              "          element.appendChild(docLink);\n",
              "        }\n",
              "      </script>\n",
              "    </div>\n",
              "  </div>\n",
              "  "
            ]
          },
          "metadata": {},
          "execution_count": 21
        }
      ],
      "source": [
        "# Mostrar el conjunto de datos\n",
        "pd.read_csv('dataset_misil.csv', index_col=0)"
      ]
    }
  ],
  "metadata": {
    "colab": {
      "provenance": []
    },
    "kernelspec": {
      "display_name": "Python 3.10.6 64-bit",
      "language": "python",
      "name": "python3"
    },
    "language_info": {
      "name": "python",
      "version": "3.10.6"
    },
    "vscode": {
      "interpreter": {
        "hash": "369f2c481f4da34e4445cda3fffd2e751bd1c4d706f27375911949ba6bb62e1c"
      }
    }
  },
  "nbformat": 4,
  "nbformat_minor": 0
}