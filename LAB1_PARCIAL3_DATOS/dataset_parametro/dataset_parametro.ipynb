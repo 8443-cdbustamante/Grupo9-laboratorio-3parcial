{
  "cells": [
    {
      "cell_type": "code",
      "execution_count": 1,
      "metadata": {
        "colab": {
          "base_uri": "https://localhost:8080/"
        },
        "id": "UQDRl6Hh8px6",
        "outputId": "6fc05b96-ecd9-44f8-9934-8e7690317ff6"
      },
      "outputs": [
        {
          "output_type": "stream",
          "name": "stdout",
          "text": [
            "Looking in indexes: https://pypi.org/simple, https://us-python.pkg.dev/colab-wheels/public/simple/\n",
            "Collecting faker\n",
            "  Downloading Faker-16.8.1-py3-none-any.whl (1.7 MB)\n",
            "\u001b[2K     \u001b[90m━━━━━━━━━━━━━━━━━━━━━━━━━━━━━━━━━━━━━━━━\u001b[0m \u001b[32m1.7/1.7 MB\u001b[0m \u001b[31m13.5 MB/s\u001b[0m eta \u001b[36m0:00:00\u001b[0m\n",
            "\u001b[?25hRequirement already satisfied: python-dateutil>=2.4 in /usr/local/lib/python3.8/dist-packages (from faker) (2.8.2)\n",
            "Requirement already satisfied: six>=1.5 in /usr/local/lib/python3.8/dist-packages (from python-dateutil>=2.4->faker) (1.15.0)\n",
            "Installing collected packages: faker\n",
            "Successfully installed faker-16.8.1\n"
          ]
        }
      ],
      "source": [
        "# Uso del Pip install para poder importar la librería faker\n",
        "!pip install faker"
      ]
    },
    {
      "cell_type": "code",
      "execution_count": 2,
      "metadata": {
        "id": "DLXqdbhr8tge"
      },
      "outputs": [],
      "source": [
        "# Importar librería pandas para manejar y analizar datos\n",
        "import pandas as pd\n",
        "# Importar librería uuid para crear identificadores únicos.\n",
        "import uuid\n",
        "# Importar librería random para generar datos aleatorios.\n",
        "import random\n",
        "# Importar el paquete faker para generar datos fasos.\n",
        "from faker import Faker"
      ]
    },
    {
      "cell_type": "code",
      "execution_count": 3,
      "metadata": {
        "id": "ggzLLo0K8whG"
      },
      "outputs": [],
      "source": [
        "# Delimitación del rango del número de elementos.\n",
        "num_parametro = 5000"
      ]
    },
    {
      "cell_type": "code",
      "execution_count": 4,
      "metadata": {
        "id": "2htiaAir8zY9"
      },
      "outputs": [],
      "source": [
        "# Una lista de 3 características de la entidad parametro\n",
        "features = [\n",
        "    \"var_id_par\",\n",
        "    \"var_descripcion_par\",\n",
        "    \"var_decreto_par\",\n",
        "    \"var_status_par\"\n",
        "]\n",
        "# Creación de un DF para estas características\n",
        "df = pd.DataFrame(columns=features)"
      ]
    },
    {
      "cell_type": "code",
      "execution_count": 5,
      "metadata": {
        "id": "Yh5XHGHK85E2"
      },
      "outputs": [],
      "source": [
        "# Generar identificadores para cada parametro\n",
        "def idm_gen(n):\n",
        "    \"\"\"\n",
        "    Función que se encarga de crear un id unico con nomenclatura básica\n",
        "    ...\n",
        "    \n",
        "    Parametros\n",
        "    ----------\n",
        "    n : int\n",
        "        representa el numero de indice correspondiente al registro\n",
        "    \n",
        "    Return\n",
        "    ------\n",
        "    \"MSL--\"+str(n+1) : str\n",
        "        nomenclatura única de identificación del parametro correspondiente\n",
        "    \"\"\"\n",
        "    return \"PRMT \"+str(n+1)"
      ]
    },
    {
      "cell_type": "code",
      "execution_count": 6,
      "metadata": {
        "id": "RZ_Hwz-l88Xj"
      },
      "outputs": [],
      "source": [
        "df['var_id_par'] = [idm_gen(i) for i in range(num_parametro)]"
      ]
    },
    {
      "cell_type": "code",
      "execution_count": 7,
      "metadata": {
        "id": "Oof3-Pzs9OaQ"
      },
      "outputs": [],
      "source": [
        "# Decreto del parametro\n",
        "Decreto_par = [\"Ley DoD\", \"Ley Nasa\"]"
      ]
    },
    {
      "cell_type": "code",
      "execution_count": 8,
      "metadata": {
        "colab": {
          "base_uri": "https://localhost:8080/",
          "height": 53
        },
        "id": "rToazv_M9S1k",
        "outputId": "7031925a-4746-46cc-e9c0-c080e9f83d73"
      },
      "outputs": [
        {
          "output_type": "execute_result",
          "data": {
            "text/plain": [
              "'\\nCon la lista generada de las opciones de decreto_par, se proporciona la función de opciones\\npesos para cada función y la cantidad de opciones hacer representadas por \"k\".\\nPor consiguiente, se asignó al atributo de \"decreto_par\" del marco de datos.\\n'"
            ],
            "application/vnd.google.colaboratory.intrinsic+json": {
              "type": "string"
            }
          },
          "metadata": {},
          "execution_count": 8
        }
      ],
      "source": [
        "df['var_decreto_par'] = random.choices(\n",
        "    Decreto_par, \n",
        "    weights=(45,55), \n",
        "    k=num_parametro\n",
        ")\n",
        "\"\"\"\n",
        "Con la lista generada de las opciones de decreto_par, se proporciona la función de opciones\n",
        "pesos para cada función y la cantidad de opciones hacer representadas por \"k\".\n",
        "Por consiguiente, se asignó al atributo de \"decreto_par\" del marco de datos.\n",
        "\"\"\""
      ]
    },
    {
      "cell_type": "code",
      "execution_count": 9,
      "metadata": {
        "id": "ExLpG7FI9fSb"
      },
      "outputs": [],
      "source": [
        "# Descripción del proveedor\n",
        "import string\n",
        "import random\n",
        "bio=[]\n",
        "length_of_string = 20\n",
        "random.seed()\n",
        "for i in range(0, num_parametro):\n",
        "  bio=(''.join(random.SystemRandom().choice(string.ascii_letters + string.digits) for i in range(length_of_string)))\n",
        "  df.var_descripcion_par[i] =bio"
      ]
    },
    {
      "cell_type": "code",
      "source": [
        "#Arreglo con estados del parametro\n",
        "status = [\n",
        "    \"Activo\",\n",
        "    \"Inactivo\"\n",
        "]"
      ],
      "metadata": {
        "id": "IEae1LdkLumd"
      },
      "execution_count": 10,
      "outputs": []
    },
    {
      "cell_type": "code",
      "source": [
        "# Determinar un estado para cada rol\n",
        "def Status_par():\n",
        "    \"\"\"\n",
        "    Función que toma un estado de forma aleatoria\n",
        "    ...\n",
        "    \n",
        "    Return\n",
        "    ------\n",
        "    random.choice(status) : str\n",
        "        seleccion de estados usando metodo choice de la libreria random\n",
        "    \"\"\"\n",
        "    return random.choice(status)"
      ],
      "metadata": {
        "id": "AkMmbFy-MAgp"
      },
      "execution_count": 11,
      "outputs": []
    },
    {
      "cell_type": "code",
      "source": [
        "df['var_status_par'] = [Status_par() for i in range(num_parametro)]"
      ],
      "metadata": {
        "id": "Ej1RJYO0MH-n"
      },
      "execution_count": 12,
      "outputs": []
    },
    {
      "cell_type": "code",
      "execution_count": 13,
      "metadata": {
        "id": "HJkvBuGH9Dvr"
      },
      "outputs": [],
      "source": [
        "# Guardar el conjunto de datos\n",
        "df.to_csv('dataset_parametro.csv')"
      ]
    },
    {
      "cell_type": "code",
      "execution_count": 14,
      "metadata": {
        "colab": {
          "base_uri": "https://localhost:8080/",
          "height": 423
        },
        "id": "iSp4cMHd9G3k",
        "outputId": "3c375f58-e5ce-4d41-bdae-8e97860841f9"
      },
      "outputs": [
        {
          "output_type": "execute_result",
          "data": {
            "text/plain": [
              "     var_id_par   var_descripcion_par var_decreto_par var_status_par\n",
              "0        PRMT 1  B76y0ojD9dDmnzTfMwbg        Ley Nasa         Activo\n",
              "1        PRMT 2  jSyoOSdA2OZ9xHINPsvc         Ley DoD         Activo\n",
              "2        PRMT 3  95iscwiDM1ewrjtPcfNz        Ley Nasa       Inactivo\n",
              "3        PRMT 4  hvyNUMDz7a3vrDuqTbxn        Ley Nasa       Inactivo\n",
              "4        PRMT 5  T9Tm1Igis8IYxYBUpryP        Ley Nasa         Activo\n",
              "...         ...                   ...             ...            ...\n",
              "4995  PRMT 4996  IgQZS0TksF0fBI0nt2aR         Ley DoD         Activo\n",
              "4996  PRMT 4997  4ipg1fC9Ol6c3HIW6N9h        Ley Nasa       Inactivo\n",
              "4997  PRMT 4998  JJDy668OTpG1M34iVnoo         Ley DoD       Inactivo\n",
              "4998  PRMT 4999  VJzmH8mpqlStzgFacSWn        Ley Nasa         Activo\n",
              "4999  PRMT 5000  ti9MSD8OzcdSzpysUA0R         Ley DoD       Inactivo\n",
              "\n",
              "[5000 rows x 4 columns]"
            ],
            "text/html": [
              "\n",
              "  <div id=\"df-028947cb-efd9-4f5c-b8ba-6cb0af1fdb34\">\n",
              "    <div class=\"colab-df-container\">\n",
              "      <div>\n",
              "<style scoped>\n",
              "    .dataframe tbody tr th:only-of-type {\n",
              "        vertical-align: middle;\n",
              "    }\n",
              "\n",
              "    .dataframe tbody tr th {\n",
              "        vertical-align: top;\n",
              "    }\n",
              "\n",
              "    .dataframe thead th {\n",
              "        text-align: right;\n",
              "    }\n",
              "</style>\n",
              "<table border=\"1\" class=\"dataframe\">\n",
              "  <thead>\n",
              "    <tr style=\"text-align: right;\">\n",
              "      <th></th>\n",
              "      <th>var_id_par</th>\n",
              "      <th>var_descripcion_par</th>\n",
              "      <th>var_decreto_par</th>\n",
              "      <th>var_status_par</th>\n",
              "    </tr>\n",
              "  </thead>\n",
              "  <tbody>\n",
              "    <tr>\n",
              "      <th>0</th>\n",
              "      <td>PRMT 1</td>\n",
              "      <td>B76y0ojD9dDmnzTfMwbg</td>\n",
              "      <td>Ley Nasa</td>\n",
              "      <td>Activo</td>\n",
              "    </tr>\n",
              "    <tr>\n",
              "      <th>1</th>\n",
              "      <td>PRMT 2</td>\n",
              "      <td>jSyoOSdA2OZ9xHINPsvc</td>\n",
              "      <td>Ley DoD</td>\n",
              "      <td>Activo</td>\n",
              "    </tr>\n",
              "    <tr>\n",
              "      <th>2</th>\n",
              "      <td>PRMT 3</td>\n",
              "      <td>95iscwiDM1ewrjtPcfNz</td>\n",
              "      <td>Ley Nasa</td>\n",
              "      <td>Inactivo</td>\n",
              "    </tr>\n",
              "    <tr>\n",
              "      <th>3</th>\n",
              "      <td>PRMT 4</td>\n",
              "      <td>hvyNUMDz7a3vrDuqTbxn</td>\n",
              "      <td>Ley Nasa</td>\n",
              "      <td>Inactivo</td>\n",
              "    </tr>\n",
              "    <tr>\n",
              "      <th>4</th>\n",
              "      <td>PRMT 5</td>\n",
              "      <td>T9Tm1Igis8IYxYBUpryP</td>\n",
              "      <td>Ley Nasa</td>\n",
              "      <td>Activo</td>\n",
              "    </tr>\n",
              "    <tr>\n",
              "      <th>...</th>\n",
              "      <td>...</td>\n",
              "      <td>...</td>\n",
              "      <td>...</td>\n",
              "      <td>...</td>\n",
              "    </tr>\n",
              "    <tr>\n",
              "      <th>4995</th>\n",
              "      <td>PRMT 4996</td>\n",
              "      <td>IgQZS0TksF0fBI0nt2aR</td>\n",
              "      <td>Ley DoD</td>\n",
              "      <td>Activo</td>\n",
              "    </tr>\n",
              "    <tr>\n",
              "      <th>4996</th>\n",
              "      <td>PRMT 4997</td>\n",
              "      <td>4ipg1fC9Ol6c3HIW6N9h</td>\n",
              "      <td>Ley Nasa</td>\n",
              "      <td>Inactivo</td>\n",
              "    </tr>\n",
              "    <tr>\n",
              "      <th>4997</th>\n",
              "      <td>PRMT 4998</td>\n",
              "      <td>JJDy668OTpG1M34iVnoo</td>\n",
              "      <td>Ley DoD</td>\n",
              "      <td>Inactivo</td>\n",
              "    </tr>\n",
              "    <tr>\n",
              "      <th>4998</th>\n",
              "      <td>PRMT 4999</td>\n",
              "      <td>VJzmH8mpqlStzgFacSWn</td>\n",
              "      <td>Ley Nasa</td>\n",
              "      <td>Activo</td>\n",
              "    </tr>\n",
              "    <tr>\n",
              "      <th>4999</th>\n",
              "      <td>PRMT 5000</td>\n",
              "      <td>ti9MSD8OzcdSzpysUA0R</td>\n",
              "      <td>Ley DoD</td>\n",
              "      <td>Inactivo</td>\n",
              "    </tr>\n",
              "  </tbody>\n",
              "</table>\n",
              "<p>5000 rows × 4 columns</p>\n",
              "</div>\n",
              "      <button class=\"colab-df-convert\" onclick=\"convertToInteractive('df-028947cb-efd9-4f5c-b8ba-6cb0af1fdb34')\"\n",
              "              title=\"Convert this dataframe to an interactive table.\"\n",
              "              style=\"display:none;\">\n",
              "        \n",
              "  <svg xmlns=\"http://www.w3.org/2000/svg\" height=\"24px\"viewBox=\"0 0 24 24\"\n",
              "       width=\"24px\">\n",
              "    <path d=\"M0 0h24v24H0V0z\" fill=\"none\"/>\n",
              "    <path d=\"M18.56 5.44l.94 2.06.94-2.06 2.06-.94-2.06-.94-.94-2.06-.94 2.06-2.06.94zm-11 1L8.5 8.5l.94-2.06 2.06-.94-2.06-.94L8.5 2.5l-.94 2.06-2.06.94zm10 10l.94 2.06.94-2.06 2.06-.94-2.06-.94-.94-2.06-.94 2.06-2.06.94z\"/><path d=\"M17.41 7.96l-1.37-1.37c-.4-.4-.92-.59-1.43-.59-.52 0-1.04.2-1.43.59L10.3 9.45l-7.72 7.72c-.78.78-.78 2.05 0 2.83L4 21.41c.39.39.9.59 1.41.59.51 0 1.02-.2 1.41-.59l7.78-7.78 2.81-2.81c.8-.78.8-2.07 0-2.86zM5.41 20L4 18.59l7.72-7.72 1.47 1.35L5.41 20z\"/>\n",
              "  </svg>\n",
              "      </button>\n",
              "      \n",
              "  <style>\n",
              "    .colab-df-container {\n",
              "      display:flex;\n",
              "      flex-wrap:wrap;\n",
              "      gap: 12px;\n",
              "    }\n",
              "\n",
              "    .colab-df-convert {\n",
              "      background-color: #E8F0FE;\n",
              "      border: none;\n",
              "      border-radius: 50%;\n",
              "      cursor: pointer;\n",
              "      display: none;\n",
              "      fill: #1967D2;\n",
              "      height: 32px;\n",
              "      padding: 0 0 0 0;\n",
              "      width: 32px;\n",
              "    }\n",
              "\n",
              "    .colab-df-convert:hover {\n",
              "      background-color: #E2EBFA;\n",
              "      box-shadow: 0px 1px 2px rgba(60, 64, 67, 0.3), 0px 1px 3px 1px rgba(60, 64, 67, 0.15);\n",
              "      fill: #174EA6;\n",
              "    }\n",
              "\n",
              "    [theme=dark] .colab-df-convert {\n",
              "      background-color: #3B4455;\n",
              "      fill: #D2E3FC;\n",
              "    }\n",
              "\n",
              "    [theme=dark] .colab-df-convert:hover {\n",
              "      background-color: #434B5C;\n",
              "      box-shadow: 0px 1px 3px 1px rgba(0, 0, 0, 0.15);\n",
              "      filter: drop-shadow(0px 1px 2px rgba(0, 0, 0, 0.3));\n",
              "      fill: #FFFFFF;\n",
              "    }\n",
              "  </style>\n",
              "\n",
              "      <script>\n",
              "        const buttonEl =\n",
              "          document.querySelector('#df-028947cb-efd9-4f5c-b8ba-6cb0af1fdb34 button.colab-df-convert');\n",
              "        buttonEl.style.display =\n",
              "          google.colab.kernel.accessAllowed ? 'block' : 'none';\n",
              "\n",
              "        async function convertToInteractive(key) {\n",
              "          const element = document.querySelector('#df-028947cb-efd9-4f5c-b8ba-6cb0af1fdb34');\n",
              "          const dataTable =\n",
              "            await google.colab.kernel.invokeFunction('convertToInteractive',\n",
              "                                                     [key], {});\n",
              "          if (!dataTable) return;\n",
              "\n",
              "          const docLinkHtml = 'Like what you see? Visit the ' +\n",
              "            '<a target=\"_blank\" href=https://colab.research.google.com/notebooks/data_table.ipynb>data table notebook</a>'\n",
              "            + ' to learn more about interactive tables.';\n",
              "          element.innerHTML = '';\n",
              "          dataTable['output_type'] = 'display_data';\n",
              "          await google.colab.output.renderOutput(dataTable, element);\n",
              "          const docLink = document.createElement('div');\n",
              "          docLink.innerHTML = docLinkHtml;\n",
              "          element.appendChild(docLink);\n",
              "        }\n",
              "      </script>\n",
              "    </div>\n",
              "  </div>\n",
              "  "
            ]
          },
          "metadata": {},
          "execution_count": 14
        }
      ],
      "source": [
        "# Mostrar el conjunto de datos\n",
        "pd.read_csv('dataset_parametro.csv', index_col=0)"
      ]
    }
  ],
  "metadata": {
    "colab": {
      "provenance": []
    },
    "kernelspec": {
      "display_name": "Python 3.10.6 64-bit",
      "language": "python",
      "name": "python3"
    },
    "language_info": {
      "name": "python",
      "version": "3.10.6"
    },
    "vscode": {
      "interpreter": {
        "hash": "369f2c481f4da34e4445cda3fffd2e751bd1c4d706f27375911949ba6bb62e1c"
      }
    }
  },
  "nbformat": 4,
  "nbformat_minor": 0
}